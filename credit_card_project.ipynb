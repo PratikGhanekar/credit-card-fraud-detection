{
  "cells": [
    {
      "cell_type": "code",
      "execution_count": 17,
      "metadata": {
        "colab": {
          "base_uri": "https://localhost:8080/",
          "height": 140
        },
        "id": "He9VubAmlVka",
        "outputId": "43379c46-18da-49f1-f5c1-9980e9592ba2"
      },
      "outputs": [
        {
          "output_type": "execute_result",
          "data": {
            "text/plain": [
              "\"About Dataset\\nContext\\nIt is important that credit card companies are able to recognize fraudulent credit card transactions so that customers are not charged for items that they did not purchase.\\n\\nContent\\nThe dataset contains transactions made by credit cards in September 2013 by European cardholders.\\nThis dataset presents transactions that occurred in two days, where we have 492 frauds out of 284,807 transactions. The dataset is highly unbalanced, the positive class (frauds) account for 0.172% of all transactions.\\n\\nIt contains only numerical input variables which are the result of a PCA transformation. Unfortunately, due to confidentiality issues, we cannot provide the original features and more background information about the data. Features V1, V2, … V28 are the principal components obtained with PCA, the only features which have not been transformed with PCA are 'Time' and 'Amount'. Feature 'Time' contains the seconds elapsed between each transaction and the first transaction in the dataset. The feature 'Amount' is the transaction Amount, this feature can be used for example-dependant cost-sensitive learning. Feature 'Class' is the response variable and it takes value 1 in case of fraud and 0 otherwise.\\n\\nGiven the class imbalance ratio, we recommend measuring the accuracy using the Area Under the Precision-Recall Curve (AUPRC). Confusion matrix accuracy is not meaningful for unbalanced classification.\\n\\n\""
            ],
            "application/vnd.google.colaboratory.intrinsic+json": {
              "type": "string"
            }
          },
          "metadata": {},
          "execution_count": 17
        }
      ],
      "source": [
        "'''About Dataset\n",
        "Context\n",
        "It is important that credit card companies are able to recognize fraudulent credit card transactions so that customers are not charged for items that they did not purchase.\n",
        "\n",
        "Content\n",
        "The dataset contains transactions made by credit cards in September 2013 by European cardholders.\n",
        "This dataset presents transactions that occurred in two days, where we have 492 frauds out of 284,807 transactions. The dataset is highly unbalanced, the positive class (frauds) account for 0.172% of all transactions.\n",
        "\n",
        "It contains only numerical input variables which are the result of a PCA transformation. Unfortunately, due to confidentiality issues, we cannot provide the original features and more background information about the data. Features V1, V2, … V28 are the principal components obtained with PCA, the only features which have not been transformed with PCA are 'Time' and 'Amount'. Feature 'Time' contains the seconds elapsed between each transaction and the first transaction in the dataset. The feature 'Amount' is the transaction Amount, this feature can be used for example-dependant cost-sensitive learning. Feature 'Class' is the response variable and it takes value 1 in case of fraud and 0 otherwise.\n",
        "\n",
        "Given the class imbalance ratio, we recommend measuring the accuracy using the Area Under the Precision-Recall Curve (AUPRC). Confusion matrix accuracy is not meaningful for unbalanced classification.\n",
        "\n",
        "'''"
      ]
    },
    {
      "cell_type": "code",
      "execution_count": 18,
      "metadata": {
        "id": "POqcgP2ai_ym"
      },
      "outputs": [],
      "source": [
        " #import standard lib\n",
        " import numpy as np\n",
        " import pandas as pd\n",
        " import matplotlib.pyplot as plt\n",
        " import seaborn as sb\n",
        " import warnings\n",
        " warnings.filterwarnings('ignore')"
      ]
    },
    {
      "cell_type": "code",
      "execution_count": 19,
      "metadata": {
        "id": "o0mPACMTkVks"
      },
      "outputs": [],
      "source": [
        "#to load csv file\n",
        "df=pd.read_csv('/content/drive/MyDrive/Deep Learning/project/creditcard.csv')"
      ]
    },
    {
      "cell_type": "code",
      "execution_count": 20,
      "metadata": {
        "colab": {
          "base_uri": "https://localhost:8080/",
          "height": 300
        },
        "id": "5ogV7bj0kVmx",
        "outputId": "cada7c40-34a8-4b55-95ae-688c5495b668"
      },
      "outputs": [
        {
          "output_type": "execute_result",
          "data": {
            "text/plain": [
              "   Time        V1        V2        V3        V4        V5        V6        V7  \\\n",
              "0   0.0 -1.359807 -0.072781  2.536347  1.378155 -0.338321  0.462388  0.239599   \n",
              "1   0.0  1.191857  0.266151  0.166480  0.448154  0.060018 -0.082361 -0.078803   \n",
              "2   1.0 -1.358354 -1.340163  1.773209  0.379780 -0.503198  1.800499  0.791461   \n",
              "3   1.0 -0.966272 -0.185226  1.792993 -0.863291 -0.010309  1.247203  0.237609   \n",
              "4   2.0 -1.158233  0.877737  1.548718  0.403034 -0.407193  0.095921  0.592941   \n",
              "\n",
              "         V8        V9  ...       V21       V22       V23       V24       V25  \\\n",
              "0  0.098698  0.363787  ... -0.018307  0.277838 -0.110474  0.066928  0.128539   \n",
              "1  0.085102 -0.255425  ... -0.225775 -0.638672  0.101288 -0.339846  0.167170   \n",
              "2  0.247676 -1.514654  ...  0.247998  0.771679  0.909412 -0.689281 -0.327642   \n",
              "3  0.377436 -1.387024  ... -0.108300  0.005274 -0.190321 -1.175575  0.647376   \n",
              "4 -0.270533  0.817739  ... -0.009431  0.798278 -0.137458  0.141267 -0.206010   \n",
              "\n",
              "        V26       V27       V28  Amount  Class  \n",
              "0 -0.189115  0.133558 -0.021053  149.62      0  \n",
              "1  0.125895 -0.008983  0.014724    2.69      0  \n",
              "2 -0.139097 -0.055353 -0.059752  378.66      0  \n",
              "3 -0.221929  0.062723  0.061458  123.50      0  \n",
              "4  0.502292  0.219422  0.215153   69.99      0  \n",
              "\n",
              "[5 rows x 31 columns]"
            ],
            "text/html": [
              "\n",
              "  <div id=\"df-a12f6581-e007-4afc-ab5e-e85d97956401\">\n",
              "    <div class=\"colab-df-container\">\n",
              "      <div>\n",
              "<style scoped>\n",
              "    .dataframe tbody tr th:only-of-type {\n",
              "        vertical-align: middle;\n",
              "    }\n",
              "\n",
              "    .dataframe tbody tr th {\n",
              "        vertical-align: top;\n",
              "    }\n",
              "\n",
              "    .dataframe thead th {\n",
              "        text-align: right;\n",
              "    }\n",
              "</style>\n",
              "<table border=\"1\" class=\"dataframe\">\n",
              "  <thead>\n",
              "    <tr style=\"text-align: right;\">\n",
              "      <th></th>\n",
              "      <th>Time</th>\n",
              "      <th>V1</th>\n",
              "      <th>V2</th>\n",
              "      <th>V3</th>\n",
              "      <th>V4</th>\n",
              "      <th>V5</th>\n",
              "      <th>V6</th>\n",
              "      <th>V7</th>\n",
              "      <th>V8</th>\n",
              "      <th>V9</th>\n",
              "      <th>...</th>\n",
              "      <th>V21</th>\n",
              "      <th>V22</th>\n",
              "      <th>V23</th>\n",
              "      <th>V24</th>\n",
              "      <th>V25</th>\n",
              "      <th>V26</th>\n",
              "      <th>V27</th>\n",
              "      <th>V28</th>\n",
              "      <th>Amount</th>\n",
              "      <th>Class</th>\n",
              "    </tr>\n",
              "  </thead>\n",
              "  <tbody>\n",
              "    <tr>\n",
              "      <th>0</th>\n",
              "      <td>0.0</td>\n",
              "      <td>-1.359807</td>\n",
              "      <td>-0.072781</td>\n",
              "      <td>2.536347</td>\n",
              "      <td>1.378155</td>\n",
              "      <td>-0.338321</td>\n",
              "      <td>0.462388</td>\n",
              "      <td>0.239599</td>\n",
              "      <td>0.098698</td>\n",
              "      <td>0.363787</td>\n",
              "      <td>...</td>\n",
              "      <td>-0.018307</td>\n",
              "      <td>0.277838</td>\n",
              "      <td>-0.110474</td>\n",
              "      <td>0.066928</td>\n",
              "      <td>0.128539</td>\n",
              "      <td>-0.189115</td>\n",
              "      <td>0.133558</td>\n",
              "      <td>-0.021053</td>\n",
              "      <td>149.62</td>\n",
              "      <td>0</td>\n",
              "    </tr>\n",
              "    <tr>\n",
              "      <th>1</th>\n",
              "      <td>0.0</td>\n",
              "      <td>1.191857</td>\n",
              "      <td>0.266151</td>\n",
              "      <td>0.166480</td>\n",
              "      <td>0.448154</td>\n",
              "      <td>0.060018</td>\n",
              "      <td>-0.082361</td>\n",
              "      <td>-0.078803</td>\n",
              "      <td>0.085102</td>\n",
              "      <td>-0.255425</td>\n",
              "      <td>...</td>\n",
              "      <td>-0.225775</td>\n",
              "      <td>-0.638672</td>\n",
              "      <td>0.101288</td>\n",
              "      <td>-0.339846</td>\n",
              "      <td>0.167170</td>\n",
              "      <td>0.125895</td>\n",
              "      <td>-0.008983</td>\n",
              "      <td>0.014724</td>\n",
              "      <td>2.69</td>\n",
              "      <td>0</td>\n",
              "    </tr>\n",
              "    <tr>\n",
              "      <th>2</th>\n",
              "      <td>1.0</td>\n",
              "      <td>-1.358354</td>\n",
              "      <td>-1.340163</td>\n",
              "      <td>1.773209</td>\n",
              "      <td>0.379780</td>\n",
              "      <td>-0.503198</td>\n",
              "      <td>1.800499</td>\n",
              "      <td>0.791461</td>\n",
              "      <td>0.247676</td>\n",
              "      <td>-1.514654</td>\n",
              "      <td>...</td>\n",
              "      <td>0.247998</td>\n",
              "      <td>0.771679</td>\n",
              "      <td>0.909412</td>\n",
              "      <td>-0.689281</td>\n",
              "      <td>-0.327642</td>\n",
              "      <td>-0.139097</td>\n",
              "      <td>-0.055353</td>\n",
              "      <td>-0.059752</td>\n",
              "      <td>378.66</td>\n",
              "      <td>0</td>\n",
              "    </tr>\n",
              "    <tr>\n",
              "      <th>3</th>\n",
              "      <td>1.0</td>\n",
              "      <td>-0.966272</td>\n",
              "      <td>-0.185226</td>\n",
              "      <td>1.792993</td>\n",
              "      <td>-0.863291</td>\n",
              "      <td>-0.010309</td>\n",
              "      <td>1.247203</td>\n",
              "      <td>0.237609</td>\n",
              "      <td>0.377436</td>\n",
              "      <td>-1.387024</td>\n",
              "      <td>...</td>\n",
              "      <td>-0.108300</td>\n",
              "      <td>0.005274</td>\n",
              "      <td>-0.190321</td>\n",
              "      <td>-1.175575</td>\n",
              "      <td>0.647376</td>\n",
              "      <td>-0.221929</td>\n",
              "      <td>0.062723</td>\n",
              "      <td>0.061458</td>\n",
              "      <td>123.50</td>\n",
              "      <td>0</td>\n",
              "    </tr>\n",
              "    <tr>\n",
              "      <th>4</th>\n",
              "      <td>2.0</td>\n",
              "      <td>-1.158233</td>\n",
              "      <td>0.877737</td>\n",
              "      <td>1.548718</td>\n",
              "      <td>0.403034</td>\n",
              "      <td>-0.407193</td>\n",
              "      <td>0.095921</td>\n",
              "      <td>0.592941</td>\n",
              "      <td>-0.270533</td>\n",
              "      <td>0.817739</td>\n",
              "      <td>...</td>\n",
              "      <td>-0.009431</td>\n",
              "      <td>0.798278</td>\n",
              "      <td>-0.137458</td>\n",
              "      <td>0.141267</td>\n",
              "      <td>-0.206010</td>\n",
              "      <td>0.502292</td>\n",
              "      <td>0.219422</td>\n",
              "      <td>0.215153</td>\n",
              "      <td>69.99</td>\n",
              "      <td>0</td>\n",
              "    </tr>\n",
              "  </tbody>\n",
              "</table>\n",
              "<p>5 rows × 31 columns</p>\n",
              "</div>\n",
              "      <button class=\"colab-df-convert\" onclick=\"convertToInteractive('df-a12f6581-e007-4afc-ab5e-e85d97956401')\"\n",
              "              title=\"Convert this dataframe to an interactive table.\"\n",
              "              style=\"display:none;\">\n",
              "        \n",
              "  <svg xmlns=\"http://www.w3.org/2000/svg\" height=\"24px\"viewBox=\"0 0 24 24\"\n",
              "       width=\"24px\">\n",
              "    <path d=\"M0 0h24v24H0V0z\" fill=\"none\"/>\n",
              "    <path d=\"M18.56 5.44l.94 2.06.94-2.06 2.06-.94-2.06-.94-.94-2.06-.94 2.06-2.06.94zm-11 1L8.5 8.5l.94-2.06 2.06-.94-2.06-.94L8.5 2.5l-.94 2.06-2.06.94zm10 10l.94 2.06.94-2.06 2.06-.94-2.06-.94-.94-2.06-.94 2.06-2.06.94z\"/><path d=\"M17.41 7.96l-1.37-1.37c-.4-.4-.92-.59-1.43-.59-.52 0-1.04.2-1.43.59L10.3 9.45l-7.72 7.72c-.78.78-.78 2.05 0 2.83L4 21.41c.39.39.9.59 1.41.59.51 0 1.02-.2 1.41-.59l7.78-7.78 2.81-2.81c.8-.78.8-2.07 0-2.86zM5.41 20L4 18.59l7.72-7.72 1.47 1.35L5.41 20z\"/>\n",
              "  </svg>\n",
              "      </button>\n",
              "      \n",
              "  <style>\n",
              "    .colab-df-container {\n",
              "      display:flex;\n",
              "      flex-wrap:wrap;\n",
              "      gap: 12px;\n",
              "    }\n",
              "\n",
              "    .colab-df-convert {\n",
              "      background-color: #E8F0FE;\n",
              "      border: none;\n",
              "      border-radius: 50%;\n",
              "      cursor: pointer;\n",
              "      display: none;\n",
              "      fill: #1967D2;\n",
              "      height: 32px;\n",
              "      padding: 0 0 0 0;\n",
              "      width: 32px;\n",
              "    }\n",
              "\n",
              "    .colab-df-convert:hover {\n",
              "      background-color: #E2EBFA;\n",
              "      box-shadow: 0px 1px 2px rgba(60, 64, 67, 0.3), 0px 1px 3px 1px rgba(60, 64, 67, 0.15);\n",
              "      fill: #174EA6;\n",
              "    }\n",
              "\n",
              "    [theme=dark] .colab-df-convert {\n",
              "      background-color: #3B4455;\n",
              "      fill: #D2E3FC;\n",
              "    }\n",
              "\n",
              "    [theme=dark] .colab-df-convert:hover {\n",
              "      background-color: #434B5C;\n",
              "      box-shadow: 0px 1px 3px 1px rgba(0, 0, 0, 0.15);\n",
              "      filter: drop-shadow(0px 1px 2px rgba(0, 0, 0, 0.3));\n",
              "      fill: #FFFFFF;\n",
              "    }\n",
              "  </style>\n",
              "\n",
              "      <script>\n",
              "        const buttonEl =\n",
              "          document.querySelector('#df-a12f6581-e007-4afc-ab5e-e85d97956401 button.colab-df-convert');\n",
              "        buttonEl.style.display =\n",
              "          google.colab.kernel.accessAllowed ? 'block' : 'none';\n",
              "\n",
              "        async function convertToInteractive(key) {\n",
              "          const element = document.querySelector('#df-a12f6581-e007-4afc-ab5e-e85d97956401');\n",
              "          const dataTable =\n",
              "            await google.colab.kernel.invokeFunction('convertToInteractive',\n",
              "                                                     [key], {});\n",
              "          if (!dataTable) return;\n",
              "\n",
              "          const docLinkHtml = 'Like what you see? Visit the ' +\n",
              "            '<a target=\"_blank\" href=https://colab.research.google.com/notebooks/data_table.ipynb>data table notebook</a>'\n",
              "            + ' to learn more about interactive tables.';\n",
              "          element.innerHTML = '';\n",
              "          dataTable['output_type'] = 'display_data';\n",
              "          await google.colab.output.renderOutput(dataTable, element);\n",
              "          const docLink = document.createElement('div');\n",
              "          docLink.innerHTML = docLinkHtml;\n",
              "          element.appendChild(docLink);\n",
              "        }\n",
              "      </script>\n",
              "    </div>\n",
              "  </div>\n",
              "  "
            ]
          },
          "metadata": {},
          "execution_count": 20
        }
      ],
      "source": [
        "#check data\n",
        "df.head()"
      ]
    },
    {
      "cell_type": "code",
      "execution_count": 21,
      "metadata": {
        "id": "8zh_dkeckVoR"
      },
      "outputs": [],
      "source": [
        "#here output variable is class\n",
        "#value 1 in case of fraud and 0 for not fraud.\n",
        "#here v1 to v28 column not important"
      ]
    },
    {
      "cell_type": "code",
      "execution_count": 22,
      "metadata": {
        "colab": {
          "base_uri": "https://localhost:8080/"
        },
        "id": "ovs8RBcPkVqc",
        "outputId": "8b846135-494c-47c3-dfeb-44ae41be07aa"
      },
      "outputs": [
        {
          "output_type": "execute_result",
          "data": {
            "text/plain": [
              "Time      0\n",
              "V1        0\n",
              "V2        0\n",
              "V3        0\n",
              "V4        0\n",
              "V5        0\n",
              "V6        0\n",
              "V7        0\n",
              "V8        0\n",
              "V9        0\n",
              "V10       0\n",
              "V11       0\n",
              "V12       0\n",
              "V13       0\n",
              "V14       0\n",
              "V15       0\n",
              "V16       0\n",
              "V17       0\n",
              "V18       0\n",
              "V19       0\n",
              "V20       0\n",
              "V21       0\n",
              "V22       0\n",
              "V23       0\n",
              "V24       0\n",
              "V25       0\n",
              "V26       0\n",
              "V27       0\n",
              "V28       0\n",
              "Amount    0\n",
              "Class     0\n",
              "dtype: int64"
            ]
          },
          "metadata": {},
          "execution_count": 22
        }
      ],
      "source": [
        "#check null values\n",
        "df.isnull().sum()"
      ]
    },
    {
      "cell_type": "code",
      "execution_count": 23,
      "metadata": {
        "colab": {
          "base_uri": "https://localhost:8080/",
          "height": 287
        },
        "id": "vB4qopqdkVtD",
        "outputId": "e308eddc-ce60-47ba-f305-558e6d6a9ff7"
      },
      "outputs": [
        {
          "output_type": "display_data",
          "data": {
            "text/plain": [
              "<Figure size 432x288 with 2 Axes>"
            ],
            "image/png": "[encoded data removed]"
          },
          "metadata": {
            "needs_background": "light"
          }
        }
      ],
      "source": [
        "#check in visualise form\n",
        "#using seaborn heatmap method\n",
        "sb.heatmap(df.isnull())\n",
        "plt.show()\n",
        "#there is a no null value"
      ]
    },
    {
      "cell_type": "code",
      "execution_count": 24,
      "metadata": {
        "colab": {
          "base_uri": "https://localhost:8080/"
        },
        "id": "K9DXovvWkVuq",
        "outputId": "6434df8e-36fd-4290-f2a0-a0181688a39c"
      },
      "outputs": [
        {
          "output_type": "execute_result",
          "data": {
            "text/plain": [
              "Time      float64\n",
              "V1        float64\n",
              "V2        float64\n",
              "V3        float64\n",
              "V4        float64\n",
              "V5        float64\n",
              "V6        float64\n",
              "V7        float64\n",
              "V8        float64\n",
              "V9        float64\n",
              "V10       float64\n",
              "V11       float64\n",
              "V12       float64\n",
              "V13       float64\n",
              "V14       float64\n",
              "V15       float64\n",
              "V16       float64\n",
              "V17       float64\n",
              "V18       float64\n",
              "V19       float64\n",
              "V20       float64\n",
              "V21       float64\n",
              "V22       float64\n",
              "V23       float64\n",
              "V24       float64\n",
              "V25       float64\n",
              "V26       float64\n",
              "V27       float64\n",
              "V28       float64\n",
              "Amount    float64\n",
              "Class       int64\n",
              "dtype: object"
            ]
          },
          "metadata": {},
          "execution_count": 24
        }
      ],
      "source": [
        "#cross check to check datatypes\n",
        "df.dtypes"
      ]
    },
    {
      "cell_type": "code",
      "execution_count": 25,
      "metadata": {
        "colab": {
          "base_uri": "https://localhost:8080/",
          "height": 331
        },
        "id": "Of-YvYi7mEf1",
        "outputId": "cdc21656-307f-4c8f-8f9d-adada4ed2a71"
      },
      "outputs": [
        {
          "output_type": "stream",
          "name": "stdout",
          "text": [
            "0    284315\n",
            "1       492\n",
            "Name: Class, dtype: int64\n"
          ]
        },
        {
          "output_type": "display_data",
          "data": {
            "text/plain": [
              "<Figure size 432x288 with 1 Axes>"
            ],
            "image/png": "[encoded data removed]"
          },
          "metadata": {
            "needs_background": "light"
          }
        }
      ],
      "source": [
        "#check data is bal or not in output variable\n",
        "f=df['Class'].value_counts()\n",
        "print(f)\n",
        "sb.countplot(data=df,x='Class')\n",
        "plt.yticks(f)\n",
        "plt.show()\n",
        "#here data is unbalanced\n",
        "#diff between majority and minority class is big\n",
        "#here cat in output variable is 2 so it is binary classification problem"
      ]
    },
    {
      "cell_type": "code",
      "execution_count": 26,
      "metadata": {
        "id": "AYNz_x-9mEiN"
      },
      "outputs": [],
      "source": [
        "#select input and output from given dataset\n",
        "X=df[['Time','Amount']] #select input \n",
        "Y=df['Class'] #select output"
      ]
    },
    {
      "cell_type": "code",
      "execution_count": 27,
      "metadata": {
        "id": "j1onkEnJL-ST",
        "colab": {
          "base_uri": "https://localhost:8080/"
        },
        "outputId": "af177354-f1e5-480b-a529-189f2d908eb5"
      },
      "outputs": [
        {
          "output_type": "execute_result",
          "data": {
            "text/plain": [
              "1081"
            ]
          },
          "metadata": {},
          "execution_count": 27
        }
      ],
      "source": [
        "#check duplicated values\n",
        "df.duplicated().sum()\n",
        "#here 1081 are duplicated value"
      ]
    },
    {
      "cell_type": "code",
      "execution_count": 28,
      "metadata": {
        "id": "-dZg2KN3Lmn9"
      },
      "outputs": [],
      "source": [
        "#delete duplicate values\n",
        "df.drop_duplicates(inplace=True)"
      ]
    },
    {
      "cell_type": "code",
      "execution_count": 29,
      "metadata": {
        "colab": {
          "base_uri": "https://localhost:8080/",
          "height": 206
        },
        "id": "KhU63rWXx0G1",
        "outputId": "b1e03479-7cb6-4347-f4ec-c56b36adbc17"
      },
      "outputs": [
        {
          "output_type": "execute_result",
          "data": {
            "text/plain": [
              "   Time  Amount\n",
              "0   0.0  149.62\n",
              "1   0.0    2.69\n",
              "2   1.0  378.66\n",
              "3   1.0  123.50\n",
              "4   2.0   69.99"
            ],
            "text/html": [
              "\n",
              "  <div id=\"df-c7a5ecdc-b85b-40d5-b11a-730fe4e1db5f\">\n",
              "    <div class=\"colab-df-container\">\n",
              "      <div>\n",
              "<style scoped>\n",
              "    .dataframe tbody tr th:only-of-type {\n",
              "        vertical-align: middle;\n",
              "    }\n",
              "\n",
              "    .dataframe tbody tr th {\n",
              "        vertical-align: top;\n",
              "    }\n",
              "\n",
              "    .dataframe thead th {\n",
              "        text-align: right;\n",
              "    }\n",
              "</style>\n",
              "<table border=\"1\" class=\"dataframe\">\n",
              "  <thead>\n",
              "    <tr style=\"text-align: right;\">\n",
              "      <th></th>\n",
              "      <th>Time</th>\n",
              "      <th>Amount</th>\n",
              "    </tr>\n",
              "  </thead>\n",
              "  <tbody>\n",
              "    <tr>\n",
              "      <th>0</th>\n",
              "      <td>0.0</td>\n",
              "      <td>149.62</td>\n",
              "    </tr>\n",
              "    <tr>\n",
              "      <th>1</th>\n",
              "      <td>0.0</td>\n",
              "      <td>2.69</td>\n",
              "    </tr>\n",
              "    <tr>\n",
              "      <th>2</th>\n",
              "      <td>1.0</td>\n",
              "      <td>378.66</td>\n",
              "    </tr>\n",
              "    <tr>\n",
              "      <th>3</th>\n",
              "      <td>1.0</td>\n",
              "      <td>123.50</td>\n",
              "    </tr>\n",
              "    <tr>\n",
              "      <th>4</th>\n",
              "      <td>2.0</td>\n",
              "      <td>69.99</td>\n",
              "    </tr>\n",
              "  </tbody>\n",
              "</table>\n",
              "</div>\n",
              "      <button class=\"colab-df-convert\" onclick=\"convertToInteractive('df-c7a5ecdc-b85b-40d5-b11a-730fe4e1db5f')\"\n",
              "              title=\"Convert this dataframe to an interactive table.\"\n",
              "              style=\"display:none;\">\n",
              "        \n",
              "  <svg xmlns=\"http://www.w3.org/2000/svg\" height=\"24px\"viewBox=\"0 0 24 24\"\n",
              "       width=\"24px\">\n",
              "    <path d=\"M0 0h24v24H0V0z\" fill=\"none\"/>\n",
              "    <path d=\"M18.56 5.44l.94 2.06.94-2.06 2.06-.94-2.06-.94-.94-2.06-.94 2.06-2.06.94zm-11 1L8.5 8.5l.94-2.06 2.06-.94-2.06-.94L8.5 2.5l-.94 2.06-2.06.94zm10 10l.94 2.06.94-2.06 2.06-.94-2.06-.94-.94-2.06-.94 2.06-2.06.94z\"/><path d=\"M17.41 7.96l-1.37-1.37c-.4-.4-.92-.59-1.43-.59-.52 0-1.04.2-1.43.59L10.3 9.45l-7.72 7.72c-.78.78-.78 2.05 0 2.83L4 21.41c.39.39.9.59 1.41.59.51 0 1.02-.2 1.41-.59l7.78-7.78 2.81-2.81c.8-.78.8-2.07 0-2.86zM5.41 20L4 18.59l7.72-7.72 1.47 1.35L5.41 20z\"/>\n",
              "  </svg>\n",
              "      </button>\n",
              "      \n",
              "  <style>\n",
              "    .colab-df-container {\n",
              "      display:flex;\n",
              "      flex-wrap:wrap;\n",
              "      gap: 12px;\n",
              "    }\n",
              "\n",
              "    .colab-df-convert {\n",
              "      background-color: #E8F0FE;\n",
              "      border: none;\n",
              "      border-radius: 50%;\n",
              "      cursor: pointer;\n",
              "      display: none;\n",
              "      fill: #1967D2;\n",
              "      height: 32px;\n",
              "      padding: 0 0 0 0;\n",
              "      width: 32px;\n",
              "    }\n",
              "\n",
              "    .colab-df-convert:hover {\n",
              "      background-color: #E2EBFA;\n",
              "      box-shadow: 0px 1px 2px rgba(60, 64, 67, 0.3), 0px 1px 3px 1px rgba(60, 64, 67, 0.15);\n",
              "      fill: #174EA6;\n",
              "    }\n",
              "\n",
              "    [theme=dark] .colab-df-convert {\n",
              "      background-color: #3B4455;\n",
              "      fill: #D2E3FC;\n",
              "    }\n",
              "\n",
              "    [theme=dark] .colab-df-convert:hover {\n",
              "      background-color: #434B5C;\n",
              "      box-shadow: 0px 1px 3px 1px rgba(0, 0, 0, 0.15);\n",
              "      filter: drop-shadow(0px 1px 2px rgba(0, 0, 0, 0.3));\n",
              "      fill: #FFFFFF;\n",
              "    }\n",
              "  </style>\n",
              "\n",
              "      <script>\n",
              "        const buttonEl =\n",
              "          document.querySelector('#df-c7a5ecdc-b85b-40d5-b11a-730fe4e1db5f button.colab-df-convert');\n",
              "        buttonEl.style.display =\n",
              "          google.colab.kernel.accessAllowed ? 'block' : 'none';\n",
              "\n",
              "        async function convertToInteractive(key) {\n",
              "          const element = document.querySelector('#df-c7a5ecdc-b85b-40d5-b11a-730fe4e1db5f');\n",
              "          const dataTable =\n",
              "            await google.colab.kernel.invokeFunction('convertToInteractive',\n",
              "                                                     [key], {});\n",
              "          if (!dataTable) return;\n",
              "\n",
              "          const docLinkHtml = 'Like what you see? Visit the ' +\n",
              "            '<a target=\"_blank\" href=https://colab.research.google.com/notebooks/data_table.ipynb>data table notebook</a>'\n",
              "            + ' to learn more about interactive tables.';\n",
              "          element.innerHTML = '';\n",
              "          dataTable['output_type'] = 'display_data';\n",
              "          await google.colab.output.renderOutput(dataTable, element);\n",
              "          const docLink = document.createElement('div');\n",
              "          docLink.innerHTML = docLinkHtml;\n",
              "          element.appendChild(docLink);\n",
              "        }\n",
              "      </script>\n",
              "    </div>\n",
              "  </div>\n",
              "  "
            ]
          },
          "metadata": {},
          "execution_count": 29
        }
      ],
      "source": [
        "X.head()"
      ]
    },
    {
      "cell_type": "code",
      "execution_count": 31,
      "metadata": {
        "id": "wcnUy_yqI2Ly",
        "colab": {
          "base_uri": "https://localhost:8080/"
        },
        "outputId": "d69a532f-09f8-467f-b20c-8a03d79966e7"
      },
      "outputs": [
        {
          "output_type": "execute_result",
          "data": {
            "text/plain": [
              "0"
            ]
          },
          "metadata": {},
          "execution_count": 31
        }
      ],
      "source": [
        "#check duplicated values again\n",
        "df.duplicated().sum()\n",
        "#here 0 are duplicated value"
      ]
    },
    {
      "cell_type": "code",
      "execution_count": 32,
      "metadata": {
        "id": "3g9Nml2amEkk"
      },
      "outputs": [],
      "source": [
        "#apply train_test_split on 70% training data and 30% testing data\n",
        "from sklearn.model_selection import train_test_split\n",
        "X_train,X_test,Y_train,Y_test=train_test_split(X,Y,test_size=0.3,random_state=1)"
      ]
    },
    {
      "cell_type": "code",
      "execution_count": 33,
      "metadata": {
        "colab": {
          "base_uri": "https://localhost:8080/"
        },
        "id": "N0r56uwRmEnI",
        "outputId": "ac6718af-f29f-419e-8a4d-7cda3e5db880"
      },
      "outputs": [
        {
          "output_type": "execute_result",
          "data": {
            "text/plain": [
              "((199364, 2), (85443, 2))"
            ]
          },
          "metadata": {},
          "execution_count": 33
        }
      ],
      "source": [
        "X_train.shape,X_test.shape"
      ]
    },
    {
      "cell_type": "code",
      "execution_count": 34,
      "metadata": {
        "colab": {
          "base_uri": "https://localhost:8080/"
        },
        "id": "JApuT8N5oeMh",
        "outputId": "6f39042f-0249-434c-fe73-da93b2550b7b"
      },
      "outputs": [
        {
          "output_type": "execute_result",
          "data": {
            "text/plain": [
              "0    199007\n",
              "1       357\n",
              "Name: Class, dtype: int64"
            ]
          },
          "metadata": {},
          "execution_count": 34
        }
      ],
      "source": [
        "#check data in output\n",
        "Y_train.value_counts()"
      ]
    },
    {
      "cell_type": "code",
      "execution_count": 35,
      "metadata": {
        "id": "fMlBFC4VobQl"
      },
      "outputs": [],
      "source": [
        "#convert minority class to majority class\n",
        "#using random over sampler method\n",
        "from imblearn.over_sampling import RandomOverSampler"
      ]
    },
    {
      "cell_type": "code",
      "execution_count": 36,
      "metadata": {
        "id": "QTr2hTsfobTD"
      },
      "outputs": [],
      "source": [
        "#create object of RandomOverSampler class\n",
        "ros=RandomOverSampler(random_state=1)\n",
        "X_train1,Y_train1=ros.fit_resample(X_train,Y_train)"
      ]
    },
    {
      "cell_type": "code",
      "execution_count": 37,
      "metadata": {
        "colab": {
          "base_uri": "https://localhost:8080/"
        },
        "id": "18g_JSFWobWL",
        "outputId": "d110d83a-2726-4e52-9fec-214897c9fc17"
      },
      "outputs": [
        {
          "output_type": "execute_result",
          "data": {
            "text/plain": [
              "0    199007\n",
              "1    199007\n",
              "Name: Class, dtype: int64"
            ]
          },
          "metadata": {},
          "execution_count": 37
        }
      ],
      "source": [
        "#check bal\n",
        "Y_train1.value_counts()\n",
        "#here data is bal"
      ]
    },
    {
      "cell_type": "code",
      "execution_count": 38,
      "metadata": {
        "id": "Jn0fAXZMpmi4"
      },
      "outputs": [],
      "source": [
        "X_test1,Y_test1=ros.fit_resample(X_test,Y_test)"
      ]
    },
    {
      "cell_type": "code",
      "execution_count": 39,
      "metadata": {
        "colab": {
          "base_uri": "https://localhost:8080/"
        },
        "id": "5Ol_SSzmF3OV",
        "outputId": "599460a5-0df6-4bd4-c591-58a91373fd43"
      },
      "outputs": [
        {
          "output_type": "execute_result",
          "data": {
            "text/plain": [
              "0    85308\n",
              "1    85308\n",
              "Name: Class, dtype: int64"
            ]
          },
          "metadata": {},
          "execution_count": 39
        }
      ],
      "source": [
        "#check bal\n",
        "Y_test1.value_counts()\n",
        "#here data is bal"
      ]
    },
    {
      "cell_type": "code",
      "execution_count": 40,
      "metadata": {
        "colab": {
          "base_uri": "https://localhost:8080/"
        },
        "id": "JEU3ujdTpmn7",
        "outputId": "955016da-3d87-448f-9791-f656f721d4b8"
      },
      "outputs": [
        {
          "output_type": "execute_result",
          "data": {
            "text/plain": [
              "0    85308\n",
              "1    85308\n",
              "Name: Class, dtype: int64"
            ]
          },
          "metadata": {},
          "execution_count": 40
        }
      ],
      "source": [
        "#to check Y_test1\n",
        "#here is bal\n",
        "Y_test1.value_counts()"
      ]
    },
    {
      "cell_type": "code",
      "execution_count": 41,
      "metadata": {
        "id": "QHMznqzjpwnx"
      },
      "outputs": [],
      "source": [
        "#apply standard scaler on X_train1 and X_test1\n",
        "from sklearn.preprocessing import StandardScaler\n",
        "#create object of StandardScaler class ss\n",
        "ss=StandardScaler()\n",
        "X_train1=ss.fit_transform(X_train1) #convert to numpy array\n",
        "X_test1=ss.transform(X_test1) #convert to numpy array"
      ]
    },
    {
      "cell_type": "code",
      "execution_count": 42,
      "metadata": {
        "colab": {
          "base_uri": "https://localhost:8080/"
        },
        "id": "A_yd7kqbswTa",
        "outputId": "d4ac9212-c60a-4217-9602-028c2175c69e"
      },
      "outputs": [
        {
          "output_type": "execute_result",
          "data": {
            "text/plain": [
              "(284807, 2)"
            ]
          },
          "metadata": {},
          "execution_count": 42
        }
      ],
      "source": [
        "#check how many row and col\n",
        "X.shape\n",
        "#here 30 input\n",
        "#Thumb rules\n",
        "#how to decide no of neaurons in hidden layers\n",
        "#no of inputs + no of neauron in output layer"
      ]
    },
    {
      "cell_type": "code",
      "execution_count": 43,
      "metadata": {
        "id": "js2Qe4rFpwp5"
      },
      "outputs": [],
      "source": [
        "#create neaural network \n",
        "import tensorflow as tf\n",
        "#create object of Sequential class\n",
        "model=tf.keras.Sequential([\n",
        "    #first hidden layer \n",
        "    tf.keras.layers.Dense(units=64,activation='relu',input_shape=(X.shape[1],)),\n",
        "    #second hidden layer\n",
        "    tf.keras.layers.Dense(units=32,activation='relu'),\n",
        "    #Third hidden layer\n",
        "    tf.keras.layers.Dense(units=16,activation='relu'),\n",
        "    #fourth hidden layer\n",
        "    tf.keras.layers.Dense(units=8,activation='relu'),\n",
        "    #output layer 31*1+1=32\n",
        "    tf.keras.layers.Dense(units=1,activation='sigmoid')\n",
        "])"
      ]
    },
    {
      "cell_type": "code",
      "execution_count": 44,
      "metadata": {
        "colab": {
          "base_uri": "https://localhost:8080/"
        },
        "id": "xxgJgSKipwsN",
        "outputId": "dc7a9b7a-b195-4e60-e58e-a002ff1ec301"
      },
      "outputs": [
        {
          "output_type": "stream",
          "name": "stdout",
          "text": [
            "Model: \"sequential\"\n",
            "_________________________________________________________________\n",
            " Layer (type)                Output Shape              Param #   \n",
            "=================================================================\n",
            " dense (Dense)               (None, 64)                192       \n",
            "                                                                 \n",
            " dense_1 (Dense)             (None, 32)                2080      \n",
            "                                                                 \n",
            " dense_2 (Dense)             (None, 16)                528       \n",
            "                                                                 \n",
            " dense_3 (Dense)             (None, 8)                 136       \n",
            "                                                                 \n",
            " dense_4 (Dense)             (None, 1)                 9         \n",
            "                                                                 \n",
            "=================================================================\n",
            "Total params: 2,945\n",
            "Trainable params: 2,945\n",
            "Non-trainable params: 0\n",
            "_________________________________________________________________\n"
          ]
        }
      ],
      "source": [
        "#check summary\n",
        "#formula of no of parameters in each layers=(no of input * no of neaurons) + no of bias\n",
        "#para of hidden layer=30*31+31=961\n",
        "#para of output layer=31*!+1=32\n",
        "model.summary()"
      ]
    },
    {
      "cell_type": "code",
      "execution_count": 45,
      "metadata": {
        "id": "JVFJo4F-pwuk"
      },
      "outputs": [],
      "source": [
        "#compile the model\n",
        "model.compile(optimizer='adam',loss='binary_crossentropy',\n",
        "              metrics=['accuracy'])"
      ]
    },
    {
      "cell_type": "code",
      "execution_count": 46,
      "metadata": {
        "id": "CSVEraQ9ulk2"
      },
      "outputs": [],
      "source": [
        "#create a procedure for early stopping \n",
        "from tensorflow.keras.callbacks import EarlyStopping\n",
        "cb=EarlyStopping(monitor='val_loss', #val_loss means testing loss\n",
        "                 min_delta=0.0001,\n",
        "                 patience=20,\n",
        "                 verbose=1,\n",
        "                 mode='auto',\n",
        "                 baseline=None,\n",
        "                 restore_best_weights=False)"
      ]
    },
    {
      "cell_type": "code",
      "execution_count": 47,
      "metadata": {
        "colab": {
          "base_uri": "https://localhost:8080/"
        },
        "id": "SLBHRxYSulnK",
        "outputId": "3ce70a14-b3b1-4dba-e53a-bd4e2572da58"
      },
      "outputs": [
        {
          "output_type": "stream",
          "name": "stdout",
          "text": [
            "Epoch 1/5000\n",
            "6219/6219 [==============================] - 19s 3ms/step - loss: 0.5657 - accuracy: 0.7094 - val_loss: 0.6339 - val_accuracy: 0.6789\n",
            "Epoch 2/5000\n",
            "6219/6219 [==============================] - 17s 3ms/step - loss: 0.5145 - accuracy: 0.7453 - val_loss: 0.6444 - val_accuracy: 0.6750\n",
            "Epoch 3/5000\n",
            "6219/6219 [==============================] - 15s 2ms/step - loss: 0.4953 - accuracy: 0.7556 - val_loss: 0.6810 - val_accuracy: 0.6776\n",
            "Epoch 4/5000\n",
            "6219/6219 [==============================] - 16s 3ms/step - loss: 0.4801 - accuracy: 0.7640 - val_loss: 0.7466 - val_accuracy: 0.6583\n",
            "Epoch 5/5000\n",
            "6219/6219 [==============================] - 15s 2ms/step - loss: 0.4661 - accuracy: 0.7702 - val_loss: 0.8138 - val_accuracy: 0.6595\n",
            "Epoch 6/5000\n",
            "6219/6219 [==============================] - 16s 3ms/step - loss: 0.4540 - accuracy: 0.7762 - val_loss: 0.8671 - val_accuracy: 0.6777\n",
            "Epoch 7/5000\n",
            "6219/6219 [==============================] - 18s 3ms/step - loss: 0.4447 - accuracy: 0.7813 - val_loss: 0.9637 - val_accuracy: 0.6693\n",
            "Epoch 8/5000\n",
            "6219/6219 [==============================] - 16s 3ms/step - loss: 0.4363 - accuracy: 0.7857 - val_loss: 0.9706 - val_accuracy: 0.6595\n",
            "Epoch 9/5000\n",
            "6219/6219 [==============================] - 18s 3ms/step - loss: 0.4285 - accuracy: 0.7900 - val_loss: 1.0881 - val_accuracy: 0.6553\n",
            "Epoch 10/5000\n",
            "6219/6219 [==============================] - 16s 3ms/step - loss: 0.4197 - accuracy: 0.7946 - val_loss: 1.1545 - val_accuracy: 0.6693\n",
            "Epoch 11/5000\n",
            "6219/6219 [==============================] - 16s 3ms/step - loss: 0.4126 - accuracy: 0.7995 - val_loss: 1.2101 - val_accuracy: 0.6764\n",
            "Epoch 12/5000\n",
            "6219/6219 [==============================] - 18s 3ms/step - loss: 0.4064 - accuracy: 0.8036 - val_loss: 1.2882 - val_accuracy: 0.6780\n",
            "Epoch 13/5000\n",
            "6219/6219 [==============================] - 22s 3ms/step - loss: 0.4001 - accuracy: 0.8064 - val_loss: 1.4300 - val_accuracy: 0.6519\n",
            "Epoch 14/5000\n",
            "6219/6219 [==============================] - 16s 3ms/step - loss: 0.3926 - accuracy: 0.8102 - val_loss: 1.4625 - val_accuracy: 0.6613\n",
            "Epoch 15/5000\n",
            "6219/6219 [==============================] - 15s 2ms/step - loss: 0.3869 - accuracy: 0.8133 - val_loss: 1.5303 - val_accuracy: 0.6809\n",
            "Epoch 16/5000\n",
            "6219/6219 [==============================] - 16s 3ms/step - loss: 0.3818 - accuracy: 0.8166 - val_loss: 1.5023 - val_accuracy: 0.6757\n",
            "Epoch 17/5000\n",
            "6219/6219 [==============================] - 16s 3ms/step - loss: 0.3761 - accuracy: 0.8197 - val_loss: 1.7141 - val_accuracy: 0.6505\n",
            "Epoch 18/5000\n",
            "6219/6219 [==============================] - 15s 2ms/step - loss: 0.3728 - accuracy: 0.8219 - val_loss: 1.6761 - val_accuracy: 0.6761\n",
            "Epoch 19/5000\n",
            "6219/6219 [==============================] - 15s 2ms/step - loss: 0.3677 - accuracy: 0.8238 - val_loss: 1.7519 - val_accuracy: 0.6720\n",
            "Epoch 20/5000\n",
            "6219/6219 [==============================] - 17s 3ms/step - loss: 0.3630 - accuracy: 0.8275 - val_loss: 1.9093 - val_accuracy: 0.6370\n",
            "Epoch 21/5000\n",
            "6219/6219 [==============================] - 15s 2ms/step - loss: 0.3583 - accuracy: 0.8303 - val_loss: 1.8688 - val_accuracy: 0.6601\n",
            "Epoch 21: early stopping\n"
          ]
        }
      ],
      "source": [
        "#to train the model with 70% data\n",
        "train_model=model.fit(X_train1,Y_train1,epochs=5000,batch_size=64,\n",
        "                      validation_data=(X_test1,Y_test1),callbacks=cb)"
      ]
    },
    {
      "cell_type": "code",
      "execution_count": 48,
      "metadata": {
        "colab": {
          "base_uri": "https://localhost:8080/"
        },
        "id": "dAD2Kav0ulpR",
        "outputId": "742223fc-58b4-4b38-a0eb-3f8dfbab85b9"
      },
      "outputs": [
        {
          "output_type": "stream",
          "name": "stdout",
          "text": [
            "12438/12438 [==============================] - 17s 1ms/step - loss: 0.3444 - accuracy: 0.8368\n",
            "Trainig loss and accurancy :  [0.34442761540412903, 0.8368449211120605]\n",
            "5332/5332 [==============================] - 7s 1ms/step - loss: 1.8688 - accuracy: 0.6601\n",
            "Testing loss and accurancy :  [1.8687928915023804, 0.660143256187439]\n"
          ]
        }
      ],
      "source": [
        "#model evaluation\n",
        "print(\"Trainig loss and accurancy : \",model.evaluate(X_train1,Y_train1))\n",
        "print(\"Testing loss and accurancy : \",model.evaluate(X_test1,Y_test1))\n",
        "#here training score is 77%\n",
        "#testing score is 66%\n",
        "#so difference is more and model is overfit\n",
        "#increased \n",
        "#to reduced overfiting use regularization"
      ]
    },
    {
      "cell_type": "code",
      "execution_count": 49,
      "metadata": {
        "colab": {
          "base_uri": "https://localhost:8080/"
        },
        "id": "wAqTogzQulrr",
        "outputId": "df0a7235-9f6f-4451-928a-d78237cd2c74"
      },
      "outputs": [
        {
          "output_type": "execute_result",
          "data": {
            "text/plain": [
              "[array([[-5.3204030e-01,  3.2899812e-02, -4.3303102e-01, -4.1429299e-01,\n",
              "         -4.8741838e-01,  5.5821527e-02, -4.9396858e-01, -1.6933039e-02,\n",
              "         -7.2772570e-02,  1.9715376e-01, -2.2938274e-01, -7.2319645e-01,\n",
              "         -5.0918621e-01,  1.7255960e-02, -1.7824374e-01, -5.7169229e-01,\n",
              "         -9.2709837e-03,  1.7593810e-02,  6.6811222e-01,  5.9122890e-01,\n",
              "         -2.7521882e-02, -6.8551570e-01,  5.4270869e-01,  7.4565512e-01,\n",
              "          5.1158762e-01,  8.4912539e-02, -4.2617130e-01,  2.9984140e-01,\n",
              "          5.1044548e-01, -4.2554593e-01, -7.7297515e-03, -3.3387744e-01,\n",
              "          2.2299200e-01,  3.0847773e-01, -1.0642907e-01,  2.1975122e-01,\n",
              "         -1.6275658e-01, -8.6183567e-03, -1.2678188e-01,  3.5516578e-01,\n",
              "          3.4616038e-02,  9.2469797e-02, -8.5808885e-01,  3.9175111e-01,\n",
              "          1.7285827e-01,  5.5810198e-02,  2.8743500e-01, -1.5484526e-02,\n",
              "          2.0051549e-01, -3.1633246e-01,  4.2814907e-01,  2.0459200e-01,\n",
              "         -5.2382100e-01, -2.1269311e-01,  5.4484373e-01, -2.2983928e-01,\n",
              "         -1.2920303e-02, -8.6053815e-03, -1.8494251e-01,  7.7285343e-01,\n",
              "          3.2497215e-01, -2.7130529e-01,  4.9132422e-02,  1.9590217e-03],\n",
              "        [ 4.6328306e-01, -1.6349982e-03, -6.3296896e-01,  3.4988439e-01,\n",
              "          4.9359316e-01,  3.8564238e-01, -5.1757866e-01, -9.4895881e-01,\n",
              "         -1.1433251e+00,  2.7957210e-01, -6.6082960e-01, -2.7220773e-02,\n",
              "          7.8043300e-01, -4.5524705e-02,  1.1281002e+00, -3.2360692e-02,\n",
              "          1.2272280e-03, -1.6610064e-04, -8.4287457e-02, -2.1143106e-01,\n",
              "         -1.3467486e+00,  3.3311433e-01, -6.5985554e-01, -3.2943554e-02,\n",
              "          9.1281897e-01, -9.8254703e-02, -1.4390895e-01,  5.7567668e-01,\n",
              "         -1.2965380e-01,  1.1314832e-01,  8.0143334e-04,  2.0540710e-01,\n",
              "          9.5075005e-01, -9.1736466e-01, -2.4376489e-01,  1.3452597e-01,\n",
              "          2.3991358e-02, -1.2400846e+00,  3.7668735e-01,  3.4690717e-01,\n",
              "         -1.4437620e-02, -9.6419090e-01,  1.5251018e-01, -1.0607963e+00,\n",
              "         -4.9466905e-01, -4.2193405e-02,  3.6739740e-01, -6.1099563e-02,\n",
              "         -6.4445579e-01, -4.6762872e-01,  8.9933109e-01,  1.0132678e+00,\n",
              "          5.6040776e-01,  7.4518025e-01,  5.8140826e-01,  2.9409066e-01,\n",
              "         -5.7349512e-03, -5.2238279e-03, -2.6514110e-01,  3.5926688e-01,\n",
              "         -1.3825016e-01, -4.8839098e-01,  4.4702706e-01, -1.6744891e+00]],\n",
              "       dtype=float32),\n",
              " array([-6.91748202e-01, -6.03729486e-02, -1.79171950e-01, -1.61867186e-01,\n",
              "        -1.18749537e-01,  1.06396198e-01, -2.73229420e-01, -3.66358042e-01,\n",
              "        -3.15521695e-02,  6.45413920e-02, -1.24009565e-01,  1.46414399e-01,\n",
              "        -1.86177604e-02, -5.02789877e-02, -8.61485600e-02,  1.12840429e-01,\n",
              "        -4.41278368e-02, -3.82529050e-02, -5.92181206e-01,  1.47352979e-01,\n",
              "        -3.27378660e-01, -3.85601729e-01, -1.46983385e-01, -4.50414330e-01,\n",
              "        -1.73448339e-01, -5.07605169e-03, -5.21136642e-01, -3.20133775e-01,\n",
              "         5.60963303e-02, -9.25017670e-02, -4.90183607e-02, -5.25287509e-01,\n",
              "        -2.05249682e-01,  2.04208493e-02, -3.96092460e-02,  2.72186324e-02,\n",
              "         9.28641111e-03, -4.28169459e-01, -6.57779956e-03,  7.18869567e-02,\n",
              "        -6.83860704e-02, -3.49239379e-01, -6.05955362e-01, -1.87661961e-01,\n",
              "         1.76614821e-01, -1.17105030e-01,  1.07506260e-01, -5.71073480e-02,\n",
              "        -8.94316807e-02, -3.84410960e-03, -2.06054822e-01,  2.51685262e-01,\n",
              "        -3.56447965e-01,  1.66910887e-01, -5.05181730e-01,  4.44380641e-01,\n",
              "        -2.85464320e-02, -1.90736447e-02, -1.00979043e-04, -3.14697951e-01,\n",
              "         8.91020969e-02, -1.81072041e-01,  3.21220517e-01,  1.63168239e-03],\n",
              "       dtype=float32),\n",
              " array([[ 1.20599437e+00,  1.10301830e-01, -2.41460040e-01, ...,\n",
              "         -2.19522461e-01, -1.13129616e-01,  2.06209540e-01],\n",
              "        [-6.01695061e-01,  1.48649320e-01,  2.28735998e-01, ...,\n",
              "          8.49114135e-02,  1.99725330e-01,  1.36186764e-01],\n",
              "        [-2.32725143e-01, -5.84790897e+00,  1.48460358e-01, ...,\n",
              "          1.53879449e-01,  4.19390239e-02,  1.22301348e-01],\n",
              "        ...,\n",
              "        [-2.48990700e-01, -5.23940288e-02,  1.52701974e-01, ...,\n",
              "         -1.32969534e+00, -2.70571500e-01, -4.77124310e+00],\n",
              "        [ 1.74590081e-01,  2.28288814e-01, -1.85815662e-01, ...,\n",
              "         -7.65742898e-01, -2.85216093e-01, -1.86237827e-01],\n",
              "        [ 3.97136211e-01,  6.94795400e-02,  1.95121810e-01, ...,\n",
              "          4.42172779e-04, -1.15163602e-01,  2.65575975e-01]], dtype=float32),\n",
              " array([ 0.36077538,  0.17977253, -0.33572954, -0.2515176 , -0.06121943,\n",
              "        -0.386106  ,  0.12789449,  0.0056979 ,  0.30636036,  0.10334642,\n",
              "        -0.07540493,  0.29757294,  0.35114372,  0.16178507,  0.37028527,\n",
              "         0.1845384 , -0.2754219 ,  0.        ,  0.41221815, -0.1215887 ,\n",
              "         0.3029601 ,  0.41305092, -0.5386702 , -0.05768344, -0.04556897,\n",
              "         0.26239666,  0.31125   ,  0.3041918 , -0.4119936 , -0.4573434 ,\n",
              "        -0.0603186 ,  0.12029603], dtype=float32),\n",
              " array([[ 6.09811544e-01,  2.34476998e-01,  6.73491657e-01,\n",
              "          2.80165374e-01,  1.85034759e-02, -1.95308656e-01,\n",
              "         -7.36947656e-01, -2.59682059e-01, -3.29297602e-01,\n",
              "         -1.03738651e-01, -1.06425546e-01,  3.39774907e-01,\n",
              "         -1.27226397e-01, -1.98943806e+00,  3.10483634e-01,\n",
              "          5.59143007e-01],\n",
              "        [ 4.57532793e-01, -5.19723147e-02, -5.63668960e-04,\n",
              "          3.14850032e-01, -3.65322560e-01,  5.10607123e-01,\n",
              "         -1.04430103e+00, -1.41581565e-01, -3.72623652e-02,\n",
              "         -6.22460365e-01,  2.42442116e-01,  8.67938343e-03,\n",
              "         -3.32197309e-01,  1.41595289e-01, -1.74855888e-01,\n",
              "         -4.05209541e+00],\n",
              "        [-1.34078288e+00,  9.10000503e-02,  2.22347990e-01,\n",
              "          2.56941557e-01, -2.89884210e-02, -2.35873699e+00,\n",
              "          3.18062305e+00, -2.28439808e-01,  2.97117978e-01,\n",
              "         -2.72648096e-01,  2.53559113e-01, -7.91181505e-01,\n",
              "          2.35930294e-01, -1.25093806e+00, -5.31979978e-01,\n",
              "          1.90878361e-01],\n",
              "        [ 6.85164511e-01, -1.24536313e-01, -6.65925503e-01,\n",
              "          9.32558700e-02, -2.35535249e-01, -2.18738034e-01,\n",
              "         -3.31944704e-01,  1.66010067e-01, -6.10808372e-01,\n",
              "          8.79995152e-02, -1.65923253e-01,  2.16131732e-01,\n",
              "         -2.45683670e-01, -2.78237581e-01,  1.03596300e-01,\n",
              "         -9.43645742e-03],\n",
              "        [-8.19335803e-02, -1.70045421e-01, -3.39173563e-02,\n",
              "         -2.35678479e-01, -2.03389049e-01, -2.35267654e-01,\n",
              "         -2.20755085e-01, -1.02983408e-01, -1.70522273e-01,\n",
              "         -1.03884064e-01,  3.27410787e-01, -2.71183819e-01,\n",
              "         -1.46434158e-01, -1.73784435e-01,  1.68659121e-01,\n",
              "         -1.44737974e-01],\n",
              "        [-4.32042889e-02,  1.04976915e-01, -4.72617328e-01,\n",
              "          2.20650792e-01, -2.42657736e-01,  8.81551564e-01,\n",
              "         -1.76998347e-01, -9.63894725e-01, -2.33933616e+00,\n",
              "         -3.64952713e-01,  6.24032438e-01, -1.36944428e-01,\n",
              "         -2.51080930e-01, -1.27641782e-01,  2.32680395e-01,\n",
              "         -2.93444484e-01],\n",
              "        [-5.39703727e-01,  3.00159067e-01, -1.84874590e-02,\n",
              "          4.53414798e-01,  6.16917498e-02,  2.21534029e-01,\n",
              "          7.55432189e-01,  5.20817697e-01,  9.31116998e-01,\n",
              "          4.91287619e-01,  3.86101484e-01,  5.18835843e-01,\n",
              "          9.08060670e-02,  1.27110615e-01,  4.47222531e-01,\n",
              "         -1.64041042e-01],\n",
              "        [ 2.56448686e-01, -1.45188284e+00,  1.94609761e-01,\n",
              "         -2.65833914e-01, -3.54469530e-02,  1.25561148e-01,\n",
              "         -2.54684567e-01, -2.93368876e-01, -1.44651189e-01,\n",
              "         -1.99557781e-01,  3.75838965e-01,  1.16269261e-01,\n",
              "          2.89783329e-01,  1.89097494e-01,  1.75956830e-01,\n",
              "          1.24121606e+00],\n",
              "        [-1.40479219e+00, -1.66399443e+00,  2.68961489e-01,\n",
              "          1.06716192e+00, -1.65657722e-03, -1.14783049e+00,\n",
              "         -2.73580819e-01,  1.25813448e+00, -4.39802170e-01,\n",
              "          6.17669523e-02, -5.56958795e-01,  5.98026156e-01,\n",
              "          4.96406807e-03, -2.83544399e-02, -1.79702258e+00,\n",
              "         -4.22463685e-01],\n",
              "        [ 5.26822567e-01,  7.97786638e-02,  9.58174393e-02,\n",
              "          6.33086205e-01, -3.96496087e-01, -5.96392117e-02,\n",
              "          2.54580885e-01, -5.97845435e-01, -6.03445113e-01,\n",
              "          2.74732828e-01,  4.36795056e-01,  6.08395278e-01,\n",
              "         -3.66868138e-01, -3.30949873e-02,  5.95517576e-01,\n",
              "          6.63116157e-01],\n",
              "        [ 6.49016798e-01, -3.02492827e-01, -3.04653883e-01,\n",
              "         -5.94186246e-01, -1.69586036e-02, -4.62790467e-02,\n",
              "         -6.56154215e-01, -1.95341158e+00,  2.94589192e-01,\n",
              "         -7.08498359e-02, -1.77266908e+00, -5.11649907e-01,\n",
              "          1.53586119e-01,  4.56567019e-01,  3.45506132e-01,\n",
              "          2.55470228e+00],\n",
              "        [ 5.85163951e-01, -8.94374788e-01,  5.19783020e-01,\n",
              "          3.44055355e-01,  2.88092226e-01, -1.49987960e+00,\n",
              "         -9.16308239e-02, -6.35363400e-01,  3.69766325e-01,\n",
              "          4.17742759e-01, -3.94792348e-01,  7.13192403e-01,\n",
              "          2.09681287e-01, -3.82424021e+00, -5.53830743e-01,\n",
              "         -3.39670986e-01],\n",
              "        [ 7.44716525e-01, -2.08003736e+00,  8.54843676e-01,\n",
              "          2.85689473e-01,  2.77034827e-02,  1.22794144e-01,\n",
              "          3.28228414e-01,  4.73465882e-02, -3.51384073e-01,\n",
              "         -4.82322186e-01, -1.35255778e+00,  2.23315299e-01,\n",
              "         -1.78615615e-01,  8.22129190e-01, -1.54514415e-02,\n",
              "         -5.22618473e-01],\n",
              "        [ 7.73297429e-01,  7.73569882e-01,  1.20867059e-01,\n",
              "         -1.22225076e-01,  1.52109712e-01, -5.23680925e-01,\n",
              "          3.32226813e-01, -4.89858299e-01, -1.54035211e-01,\n",
              "         -3.49408537e-01,  1.33317271e-02, -6.96536422e-01,\n",
              "         -3.09249580e-01,  2.58893609e+00, -4.84792702e-02,\n",
              "          2.68956512e-01],\n",
              "        [ 7.46975124e-01, -1.58120394e-01,  4.60354805e-01,\n",
              "         -2.03988403e-01,  1.92659110e-01,  2.19968170e-01,\n",
              "          1.42041773e-01,  1.24443799e-01, -2.57217735e-01,\n",
              "         -6.02215290e-01,  1.64728492e-01,  6.52761400e-01,\n",
              "          9.28278565e-02,  6.05723023e-01, -1.08951241e-01,\n",
              "         -4.88747406e+00],\n",
              "        [-6.32276773e-01, -5.28203440e+00, -1.69534838e+00,\n",
              "          5.12238026e-01, -8.24292228e-02, -4.53012943e-01,\n",
              "         -3.58235613e-02,  9.11751628e-01, -1.79958344e+00,\n",
              "          6.75404742e-02, -2.77605116e-01,  2.60622501e-01,\n",
              "         -1.71581179e-01, -7.31320798e-01, -3.36941212e-01,\n",
              "          2.01773375e-01],\n",
              "        [ 6.04576170e-01,  3.75401616e-01,  3.35801452e-01,\n",
              "         -1.21698678e+00, -2.75546938e-01,  5.26101530e-01,\n",
              "         -3.53961140e-02,  1.19598366e-01, -7.00868666e-01,\n",
              "          1.32073373e-01,  3.13698858e-01, -5.28157465e-02,\n",
              "         -3.79368842e-01,  1.51019812e-01,  9.69161689e-01,\n",
              "          4.77256417e-01],\n",
              "        [ 1.93767935e-01, -2.49814063e-01, -2.30777502e-01,\n",
              "         -5.51820993e-02,  2.65373081e-01, -2.74866998e-01,\n",
              "         -2.55783319e-01, -1.04777649e-01, -2.36457810e-01,\n",
              "         -2.03601137e-01,  9.79299843e-02,  2.18722075e-01,\n",
              "         -2.54594088e-01, -3.35359186e-01, -1.24387652e-01,\n",
              "         -2.03443930e-01],\n",
              "        [-2.54055560e-01, -6.38377666e+00, -2.03417706e+00,\n",
              "          2.67966807e-01, -2.98688203e-01,  1.56419843e-01,\n",
              "          3.21182787e-01,  5.51427782e-01, -3.70003402e-01,\n",
              "         -1.15688071e-01,  9.02031586e-02,  3.84580642e-01,\n",
              "          8.74692127e-02, -5.02106130e-01, -5.10849595e-01,\n",
              "          1.33778214e+00],\n",
              "        [-3.98763925e-01, -3.15699250e-01,  1.24547839e-01,\n",
              "         -1.33552894e-01,  1.21392861e-01,  6.60438556e-03,\n",
              "         -3.36055458e-01, -1.11167096e-01, -1.04177427e+00,\n",
              "          7.60717034e-01,  4.55033362e-01,  3.51895243e-01,\n",
              "         -3.99838865e-01,  4.41250503e-01, -5.10632813e-01,\n",
              "         -1.00827193e+00],\n",
              "        [-4.54559177e-01,  1.53099597e-01, -5.29390633e-01,\n",
              "          5.34653604e-01, -6.53307736e-02,  2.40874913e-04,\n",
              "          6.62312210e-01,  1.67153132e+00,  4.27104264e-01,\n",
              "          4.40313756e-01,  7.17261553e-01,  4.91719484e-01,\n",
              "          9.64310095e-02, -3.10139275e+00,  2.37615164e-02,\n",
              "          5.93314953e-02],\n",
              "        [-7.11523652e-01,  1.48564148e+00,  6.38602257e-01,\n",
              "         -7.36792624e-01,  1.58074766e-01, -5.53520247e-02,\n",
              "          2.18931246e+00,  2.58081055e+00,  5.44544816e-01,\n",
              "          2.43878424e-01, -1.00879443e+00,  2.89428473e-01,\n",
              "          1.74180567e-01,  3.56907010e-01, -6.56854808e-01,\n",
              "          3.01962167e-01],\n",
              "        [ 6.49452284e-02,  2.02028012e+00, -3.34115744e-01,\n",
              "          4.21963811e-01, -6.54727733e-03, -2.98623443e-01,\n",
              "         -1.96286130e+00, -8.35255325e-01, -8.91635418e-01,\n",
              "          3.64797786e-02, -1.68970037e+00, -1.94980073e+00,\n",
              "          5.76535165e-02, -8.21928501e-01, -1.21156394e+00,\n",
              "         -6.60732329e-01],\n",
              "        [ 2.11240441e-01, -3.38878512e-01,  2.86494136e-01,\n",
              "          3.38647991e-01, -8.69337022e-02, -1.50527135e-01,\n",
              "         -2.12052196e-01, -3.16691957e-02,  4.43159044e-02,\n",
              "          9.09917057e-02, -1.14523172e-01,  3.59474793e-02,\n",
              "          2.51929671e-01,  2.89345801e-01,  2.43218973e-01,\n",
              "         -1.64689586e-01],\n",
              "        [-3.56487393e-01,  2.56757259e-01, -4.94714022e-01,\n",
              "          3.93159807e-01, -6.31311163e-02,  8.71937513e-01,\n",
              "          8.66432786e-02,  4.11370486e-01, -7.46056139e-02,\n",
              "          4.50326174e-01,  1.15277112e-01,  3.08923632e-01,\n",
              "         -1.74052328e-01,  2.21773013e-01, -1.24718837e-01,\n",
              "          4.04114902e-01],\n",
              "        [-2.09796727e-01, -2.06328654e+00, -2.65655845e-01,\n",
              "         -1.91559061e-01, -1.48055226e-01,  6.24975741e-01,\n",
              "          3.25883716e-01,  7.41270900e-01,  3.67532670e-01,\n",
              "          6.54677153e-01, -4.86696422e-01,  3.25287990e-02,\n",
              "         -3.18684727e-01, -3.96538287e-01, -5.77475190e-01,\n",
              "          3.40484008e-02],\n",
              "        [-1.21737346e-01, -5.69990098e-01,  6.32798523e-02,\n",
              "          1.08031683e-01, -3.89350474e-01, -2.09173679e-01,\n",
              "          4.06235516e-01,  9.32013318e-02, -3.70360017e-02,\n",
              "          4.26695317e-01, -4.37416703e-01,  7.39545345e-01,\n",
              "          1.67338759e-01,  6.07139528e-01, -2.04041570e-01,\n",
              "          3.42229098e-01],\n",
              "        [-4.37073596e-02,  2.89161175e-01,  2.89853811e-01,\n",
              "          8.90890211e-02,  2.60243982e-01, -1.29467100e-01,\n",
              "         -1.12902427e+00, -4.76139307e-01, -1.51747078e-01,\n",
              "          6.09033108e-01,  3.60498995e-01, -6.54500484e-01,\n",
              "          7.45789185e-02, -3.30050588e+00, -5.64602435e-01,\n",
              "         -2.39285663e-01],\n",
              "        [-4.75346565e-01, -3.16326469e-01, -5.53147852e-01,\n",
              "         -1.35488167e-01,  1.55330857e-03,  3.09995878e-02,\n",
              "         -2.84671843e-01, -2.51325250e+00, -3.06258440e+00,\n",
              "          4.02055085e-01, -2.09843487e-01, -5.12740731e-01,\n",
              "         -1.79509312e-01,  1.12368800e-02,  5.40581167e-01,\n",
              "         -1.25205004e+00],\n",
              "        [-1.02432835e+00, -1.78905010e-01, -4.17596483e+00,\n",
              "          4.63113189e-01, -8.15596655e-02,  6.07761070e-02,\n",
              "          1.05930857e-01,  8.11323941e-01, -7.81321228e-02,\n",
              "         -1.25020109e-02, -1.28910914e-01, -2.98413634e+00,\n",
              "          2.52769381e-01, -1.09542918e+00, -1.30733578e-02,\n",
              "         -2.90579009e+00],\n",
              "        [-3.44370693e-01, -2.77198595e-03,  1.01038925e-01,\n",
              "         -3.00164342e-01, -1.05073035e-01, -2.50473708e-01,\n",
              "          2.02084128e-02, -1.57723531e-01, -1.83567226e-01,\n",
              "         -2.34576911e-01, -2.05330718e-02, -3.41272086e-01,\n",
              "         -2.44149953e-01,  1.47916898e-01, -3.21907520e-01,\n",
              "         -2.42639959e-01],\n",
              "        [ 3.89994055e-01, -3.27242196e-01, -1.68890879e-02,\n",
              "          4.76217538e-01,  2.58938037e-02, -1.67503625e-01,\n",
              "         -1.63658112e-01, -1.98339466e-02, -2.53335893e-01,\n",
              "         -1.94106773e-01, -1.66712439e+00, -6.19238168e-02,\n",
              "         -2.04262778e-01,  1.46901056e-01,  2.24507436e-01,\n",
              "         -1.58765495e+00]], dtype=float32),\n",
              " array([ 0.24133997, -0.06603535,  0.18239272,  0.00815349, -0.06014324,\n",
              "         0.04501994,  0.42302588,  0.29814455, -0.04343099,  0.1456374 ,\n",
              "         0.20019114,  0.05685297, -0.06831981,  0.29711664, -0.17461485,\n",
              "         0.38177294], dtype=float32),\n",
              " array([[ 3.6839865e-02, -4.0693197e-01,  3.5018705e-02,  4.7495118e-01,\n",
              "         -3.6013198e-01,  2.9554170e-01, -2.2765203e+00,  3.9979169e-01],\n",
              "        [ 1.3774345e+00, -7.4927092e-02, -2.7417240e+00, -1.5066775e+00,\n",
              "         -3.2074635e+00,  1.4119506e-01, -3.4356539e+00, -1.0948133e+00],\n",
              "        [-3.6799371e+00,  2.5531266e-02,  1.5098674e+00,  1.5873307e+00,\n",
              "         -1.3650632e+00, -2.9770964e-01, -1.9141524e+00,  1.3909353e+00],\n",
              "        [ 4.0369624e-01,  3.2013641e-03, -3.3527154e-02, -5.1759180e-02,\n",
              "          5.4818779e-01,  8.2326078e-01,  4.2960015e-01,  1.1327885e-01],\n",
              "        [-2.6750293e-01,  3.2610178e-01, -2.4614275e-01, -4.2359382e-01,\n",
              "          3.2333070e-01,  3.9103234e-01, -4.9029727e-02,  5.5396515e-01],\n",
              "        [ 5.3847057e-01, -1.2189100e-01,  1.3264809e-02,  3.2369691e-01,\n",
              "         -1.6235282e-01, -1.3828410e+00, -5.5340379e-01, -3.5650709e-01],\n",
              "        [ 2.1602401e-01, -7.5112484e-02,  4.1053981e-01,  1.2012262e+00,\n",
              "         -5.4686701e-01, -7.3943645e-01,  5.6842071e-01,  1.4602174e+00],\n",
              "        [-7.1461040e-01, -1.7730033e-01,  7.3891824e-01,  1.2834558e-01,\n",
              "          1.0211787e-02, -1.4501103e+00,  1.1061625e+00,  7.6239163e-01],\n",
              "        [ 9.3940490e-01,  3.1011808e-01,  2.0990019e+00,  5.1131673e+00,\n",
              "         -5.6107696e-02, -7.3042021e+00, -8.3601421e-01,  2.2584157e+00],\n",
              "        [ 5.0477135e-01,  1.2716900e-01, -2.8052148e-01, -6.3352388e-01,\n",
              "         -1.8181205e-01,  3.7898281e-01,  3.5330701e-01, -1.5739791e-01],\n",
              "        [-5.7267362e-01, -1.9230810e-01,  1.0699698e+00,  9.5426852e-01,\n",
              "          6.6716236e-01, -2.2033449e-02, -3.3190498e-01,  5.0562298e-01],\n",
              "        [ 7.5558138e-01, -5.9430552e-01, -2.2590597e-01,  8.0574796e-02,\n",
              "          8.5659361e-01,  6.3507140e-01,  4.6111885e-01, -2.2090480e-01],\n",
              "        [ 1.6132966e-01, -1.6367507e-01,  2.2939999e-01, -4.0988675e-03,\n",
              "          1.1927120e-01,  7.8646608e-02, -2.5149328e-01,  8.7859526e-02],\n",
              "        [ 3.8462553e-02,  2.8121093e-01,  1.5985200e-01,  4.3760103e-01,\n",
              "          8.5138851e-01,  7.7198087e-03, -1.4752642e+00,  5.7055038e-01],\n",
              "        [ 3.4204412e-02, -1.6512153e-01, -2.2039108e-02,  1.7935385e-01,\n",
              "         -1.0127669e+01, -2.5055122e-01, -2.7419488e+00, -1.3785397e+00],\n",
              "        [-7.7740747e-01, -1.3107777e-02,  5.8803427e-01,  2.3493781e-03,\n",
              "          1.7089635e-01,  7.2784859e-01, -1.1925616e+00,  8.1120777e-01]],\n",
              "       dtype=float32),\n",
              " array([ 0.35574633, -0.14493798, -0.10616141, -0.8447817 ,  0.04201938,\n",
              "         0.5864799 ,  0.17272104,  0.23190941], dtype=float32),\n",
              " array([[ 1.3281388 ],\n",
              "        [-0.26057905],\n",
              "        [-1.8719721 ],\n",
              "        [-1.4804847 ],\n",
              "        [ 1.6321303 ],\n",
              "        [ 2.8402257 ],\n",
              "        [ 3.5798004 ],\n",
              "        [-1.5705009 ]], dtype=float32),\n",
              " array([0.27231717], dtype=float32)]"
            ]
          },
          "metadata": {},
          "execution_count": 49
        }
      ],
      "source": [
        "model.get_weights()\n",
        "#get_weights() inbuild function"
      ]
    },
    {
      "cell_type": "code",
      "execution_count": 50,
      "metadata": {
        "colab": {
          "base_uri": "https://localhost:8080/",
          "height": 279
        },
        "id": "1fMLeWzbpwwr",
        "outputId": "1bb73087-678f-4d92-adb0-8324a99a4eb8"
      },
      "outputs": [
        {
          "output_type": "display_data",
          "data": {
            "text/plain": [
              "<Figure size 432x288 with 1 Axes>"
            ],
            "image/png": "[encoded data removed]"
          },
          "metadata": {
            "needs_background": "light"
          }
        }
      ],
      "source": [
        "#visaulisation to loss training graph and testing graph\n",
        "#train_model\n",
        "plt.plot(train_model.history['loss'],label=\"Training Loss\",color='red')\n",
        "plt.plot(train_model.history['val_loss'],label=\"Testing Loss\",color='green')\n",
        "plt.xlabel(\"Epochs\")\n",
        "plt.ylabel(\"binary_crossentropy\")\n",
        "plt.legend()\n",
        "plt.show()"
      ]
    },
    {
      "cell_type": "code",
      "execution_count": 51,
      "metadata": {
        "colab": {
          "base_uri": "https://localhost:8080/",
          "height": 279
        },
        "id": "Lz6Jmsmq5dcU",
        "outputId": "108f616f-afe0-4368-b9b7-bfe22361c92b"
      },
      "outputs": [
        {
          "output_type": "display_data",
          "data": {
            "text/plain": [
              "<Figure size 432x288 with 1 Axes>"
            ],
            "image/png": "[encoded data removed]"
          },
          "metadata": {
            "needs_background": "light"
          }
        }
      ],
      "source": [
        "''#visaulisation to accurancy of training graph and testing graph\n",
        "#train_model\n",
        "plt.plot(train_model.history['accuracy'],label=\"Training accuracy\",color='red')\n",
        "plt.plot(train_model.history['val_accuracy'],label=\"Testing accuracy\",color='green')\n",
        "plt.xlabel(\"Epochs\")\n",
        "plt.ylabel(\"accurancy\")\n",
        "plt.legend()\n",
        "plt.show()"
      ]
    },
    {
      "cell_type": "code",
      "execution_count": 52,
      "metadata": {
        "id": "Ch8o7uCH5deh"
      },
      "outputs": [],
      "source": [
        "#clearly understand model is overfit\n",
        "#so to remove overfitting problem use overfitting method first\n",
        "#use dropout\n",
        "#dropout always in between 20% to 50%\n",
        "#create neaural network\n",
        "import tensorflow as tf\n",
        "from tensorflow.keras.layers import Dropout\n",
        "#create object of Sequential class\n",
        "model1=tf.keras.Sequential([\n",
        "    #create first hidden layer\n",
        "    tf.keras.layers.Dense(units=64,activation='relu',input_shape=(X.shape[1],)),\n",
        "    Dropout(0.30),#30% dropout\n",
        "    #create second hidden layer\n",
        "    tf.keras.layers.Dense(units=32,activation='relu'),Dropout(0.30),#30% dropout\n",
        "    #create third hidden layer\n",
        "    tf.keras.layers.Dense(units=16,activation='relu'),Dropout(0.30),#30% dropout\n",
        "    #fourth hidden layer\n",
        "    tf.keras.layers.Dense(units=8,activation='relu'),Dropout(0.30), #30% dropout\n",
        "    #create output layer\n",
        "    tf.keras.layers.Dense(units=1,activation='sigmoid')\n",
        "])"
      ]
    },
    {
      "cell_type": "code",
      "execution_count": 53,
      "metadata": {
        "id": "A3vIMMr85dgz"
      },
      "outputs": [],
      "source": [
        "#compile the model\n",
        "model1.compile(optimizer='adam',loss='binary_crossentropy',\n",
        "              metrics=['accuracy'])"
      ]
    },
    {
      "cell_type": "code",
      "execution_count": 54,
      "metadata": {
        "colab": {
          "base_uri": "https://localhost:8080/"
        },
        "id": "5sIQn2lD5dj7",
        "outputId": "e10d8d1a-2e66-40dc-bcab-ee254ec0e8af"
      },
      "outputs": [
        {
          "output_type": "stream",
          "name": "stdout",
          "text": [
            "Epoch 1/5000\n",
            "6219/6219 [==============================] - 19s 3ms/step - loss: 0.6408 - accuracy: 0.6383 - val_loss: 0.6135 - val_accuracy: 0.6630\n",
            "Epoch 2/5000\n",
            "6219/6219 [==============================] - 16s 3ms/step - loss: 0.5944 - accuracy: 0.6938 - val_loss: 0.6021 - val_accuracy: 0.6788\n",
            "Epoch 3/5000\n",
            "6219/6219 [==============================] - 16s 3ms/step - loss: 0.5808 - accuracy: 0.7064 - val_loss: 0.5928 - val_accuracy: 0.6814\n",
            "Epoch 4/5000\n",
            "6219/6219 [==============================] - 16s 3ms/step - loss: 0.5741 - accuracy: 0.7108 - val_loss: 0.6016 - val_accuracy: 0.6873\n",
            "Epoch 5/5000\n",
            "6219/6219 [==============================] - 22s 3ms/step - loss: 0.5698 - accuracy: 0.7139 - val_loss: 0.6046 - val_accuracy: 0.6699\n",
            "Epoch 6/5000\n",
            "6219/6219 [==============================] - 16s 3ms/step - loss: 0.5676 - accuracy: 0.7161 - val_loss: 0.5959 - val_accuracy: 0.6816\n",
            "Epoch 7/5000\n",
            "6219/6219 [==============================] - 16s 3ms/step - loss: 0.5663 - accuracy: 0.7174 - val_loss: 0.6002 - val_accuracy: 0.6801\n",
            "Epoch 8/5000\n",
            "6219/6219 [==============================] - 16s 3ms/step - loss: 0.5645 - accuracy: 0.7195 - val_loss: 0.6083 - val_accuracy: 0.6856\n",
            "Epoch 9/5000\n",
            "6219/6219 [==============================] - 16s 3ms/step - loss: 0.5639 - accuracy: 0.7194 - val_loss: 0.6032 - val_accuracy: 0.6825\n",
            "Epoch 10/5000\n",
            "6219/6219 [==============================] - 16s 3ms/step - loss: 0.5633 - accuracy: 0.7185 - val_loss: 0.6030 - val_accuracy: 0.6742\n",
            "Epoch 11/5000\n",
            "6219/6219 [==============================] - 16s 2ms/step - loss: 0.5649 - accuracy: 0.7180 - val_loss: 0.6078 - val_accuracy: 0.6805\n",
            "Epoch 12/5000\n",
            "6219/6219 [==============================] - 16s 3ms/step - loss: 0.5630 - accuracy: 0.7186 - val_loss: 0.6010 - val_accuracy: 0.6935\n",
            "Epoch 13/5000\n",
            "6219/6219 [==============================] - 18s 3ms/step - loss: 0.5618 - accuracy: 0.7198 - val_loss: 0.6038 - val_accuracy: 0.6842\n",
            "Epoch 14/5000\n",
            "6219/6219 [==============================] - 18s 3ms/step - loss: 0.5621 - accuracy: 0.7197 - val_loss: 0.6074 - val_accuracy: 0.6832\n",
            "Epoch 15/5000\n",
            "6219/6219 [==============================] - 16s 3ms/step - loss: 0.5622 - accuracy: 0.7192 - val_loss: 0.6032 - val_accuracy: 0.6921\n",
            "Epoch 16/5000\n",
            "6219/6219 [==============================] - 16s 3ms/step - loss: 0.5630 - accuracy: 0.7181 - val_loss: 0.5986 - val_accuracy: 0.6876\n",
            "Epoch 17/5000\n",
            "6219/6219 [==============================] - 16s 3ms/step - loss: 0.5622 - accuracy: 0.7186 - val_loss: 0.5978 - val_accuracy: 0.6875\n",
            "Epoch 18/5000\n",
            "6219/6219 [==============================] - 18s 3ms/step - loss: 0.5621 - accuracy: 0.7198 - val_loss: 0.6046 - val_accuracy: 0.6704\n",
            "Epoch 19/5000\n",
            "6219/6219 [==============================] - 20s 3ms/step - loss: 0.5616 - accuracy: 0.7191 - val_loss: 0.6053 - val_accuracy: 0.6799\n",
            "Epoch 20/5000\n",
            "6219/6219 [==============================] - 16s 3ms/step - loss: 0.5611 - accuracy: 0.7201 - val_loss: 0.5993 - val_accuracy: 0.6830\n",
            "Epoch 21/5000\n",
            "6219/6219 [==============================] - 16s 3ms/step - loss: 0.5605 - accuracy: 0.7201 - val_loss: 0.6074 - val_accuracy: 0.6915\n",
            "Epoch 22/5000\n",
            "6219/6219 [==============================] - 19s 3ms/step - loss: 0.5592 - accuracy: 0.7216 - val_loss: 0.6135 - val_accuracy: 0.6793\n",
            "Epoch 23/5000\n",
            "6219/6219 [==============================] - 19s 3ms/step - loss: 0.5595 - accuracy: 0.7211 - val_loss: 0.6062 - val_accuracy: 0.6804\n",
            "Epoch 23: early stopping\n"
          ]
        }
      ],
      "source": [
        "#to train the model with 70% data\n",
        "train_model1=model1.fit(X_train1,Y_train1,epochs=5000,batch_size=64,\n",
        "                        validation_data=(X_test1,Y_test1),callbacks=cb)"
      ]
    },
    {
      "cell_type": "code",
      "execution_count": 55,
      "metadata": {
        "colab": {
          "base_uri": "https://localhost:8080/"
        },
        "id": "-f_GP4IZ5DI5",
        "outputId": "b1377a86-b317-4d57-db29-8aebdc9c8354"
      },
      "outputs": [
        {
          "output_type": "stream",
          "name": "stdout",
          "text": [
            "12438/12438 [==============================] - 18s 1ms/step - loss: 0.5198 - accuracy: 0.7477\n",
            "Trainig loss and accurancy :  [0.5198153257369995, 0.7476847767829895]\n",
            "5332/5332 [==============================] - 7s 1ms/step - loss: 0.6062 - accuracy: 0.6804\n",
            "Testing loss and accurancy :  [0.6062478423118591, 0.6804285645484924]\n"
          ]
        }
      ],
      "source": [
        "#model evaluation\n",
        "print(\"Trainig loss and accurancy : \",model1.evaluate(X_train1,Y_train1))\n",
        "print(\"Testing loss and accurancy : \",model1.evaluate(X_test1,Y_test1))\n",
        "#here training score > testting score \n",
        "#and difference is 4\n",
        "#model is overfit\n",
        "#and score also not good"
      ]
    },
    {
      "cell_type": "code",
      "execution_count": 56,
      "metadata": {
        "colab": {
          "base_uri": "https://localhost:8080/",
          "height": 279
        },
        "id": "GeHEr2HV5DLg",
        "outputId": "65e39c5f-8bc6-4b75-ad22-cffa364ecab8"
      },
      "outputs": [
        {
          "output_type": "display_data",
          "data": {
            "text/plain": [
              "<Figure size 432x288 with 1 Axes>"
            ],
            "image/png": "[encoded data removed]"
          },
          "metadata": {
            "needs_background": "light"
          }
        }
      ],
      "source": [
        "#visaulisation to loss training graph and testing graph\n",
        "#train_model\n",
        "plt.plot(train_model1.history['loss'],label=\"Training Loss\",color='red')\n",
        "plt.plot(train_model1.history['val_loss'],label=\"Testing Loss\",color='green')\n",
        "plt.xlabel(\"Epochs\")\n",
        "plt.ylabel(\"binary_crossentropy\")\n",
        "plt.legend()\n",
        "plt.show()"
      ]
    },
    {
      "cell_type": "code",
      "execution_count": 57,
      "metadata": {
        "colab": {
          "base_uri": "https://localhost:8080/",
          "height": 279
        },
        "id": "GRuog6D45DN4",
        "outputId": "ea4146a1-c8df-46b8-beac-f094b84515ff"
      },
      "outputs": [
        {
          "output_type": "display_data",
          "data": {
            "text/plain": [
              "<Figure size 432x288 with 1 Axes>"
            ],
            "image/png": "[encoded data removed]"
          },
          "metadata": {
            "needs_background": "light"
          }
        }
      ],
      "source": [
        "''#visaulisation to accurancy of training graph and testing graph\n",
        "#train_model\n",
        "plt.plot(train_model1.history['accuracy'],label=\"Training accuracy\",color='red')\n",
        "plt.plot(train_model1.history['val_accuracy'],label=\"Testing accuracy\",color='green')\n",
        "plt.xlabel(\"Epochs\")\n",
        "plt.ylabel(\"accurancy\")\n",
        "plt.legend()\n",
        "plt.show()"
      ]
    },
    {
      "cell_type": "code",
      "execution_count": 58,
      "metadata": {
        "id": "IKnsqb8R5DQe"
      },
      "outputs": [],
      "source": [
        "#clearly understand model is overfit\n",
        "#use 2nd overfitting method regularisation l2\n",
        "#create neaural network \n",
        "from tensorflow.keras import regularizers\n",
        "#create object of Sequential class\n",
        "model2=tf.keras.Sequential([\n",
        "    #first hidden layer \n",
        "    tf.keras.layers.Dense(units=64,activation='relu',\n",
        "                          kernel_regularizer=regularizers.l2(0.01),input_shape=(X.shape[1],)),Dropout(0.20),\n",
        "    #second hidden layer\n",
        "    tf.keras.layers.Dense(units=32,activation='relu',kernel_regularizer=regularizers.l2(0.01)),Dropout(0.20),\n",
        "    #third hidden layer \n",
        "    tf.keras.layers.Dense(units=16,activation='relu',kernel_regularizer=regularizers.l2(0.01)),Dropout(0.20),\n",
        "    #fourth hidden layer\n",
        "    tf.keras.layers.Dense(units=8,activation='relu'),Dropout(0.30), #30% dropout\n",
        "    #output layer\n",
        "    tf.keras.layers.Dense(units=1,activation='sigmoid',kernel_regularizer=regularizers.l2(0.01))\n",
        "])"
      ]
    },
    {
      "cell_type": "code",
      "execution_count": 59,
      "metadata": {
        "id": "MAMK2phr5DTB"
      },
      "outputs": [],
      "source": [
        "#compile the model\n",
        "model2.compile(optimizer='adam',loss='binary_crossentropy',\n",
        "              metrics=['accuracy'])"
      ]
    },
    {
      "cell_type": "code",
      "execution_count": 60,
      "metadata": {
        "colab": {
          "base_uri": "https://localhost:8080/"
        },
        "id": "wrcNwh3o5DZi",
        "outputId": "782daf44-c4a3-445c-c426-fe8f1589aaff"
      },
      "outputs": [
        {
          "output_type": "stream",
          "name": "stdout",
          "text": [
            "Epoch 1/5000\n",
            "6219/6219 [==============================] - 19s 3ms/step - loss: 0.7029 - accuracy: 0.5657 - val_loss: 0.6912 - val_accuracy: 0.5359\n",
            "Epoch 2/5000\n",
            "6219/6219 [==============================] - 19s 3ms/step - loss: 0.6888 - accuracy: 0.5688 - val_loss: 0.6891 - val_accuracy: 0.5365\n",
            "Epoch 3/5000\n",
            "6219/6219 [==============================] - 18s 3ms/step - loss: 0.6876 - accuracy: 0.5712 - val_loss: 0.6897 - val_accuracy: 0.5347\n",
            "Epoch 4/5000\n",
            "6219/6219 [==============================] - 18s 3ms/step - loss: 0.6866 - accuracy: 0.5730 - val_loss: 0.6874 - val_accuracy: 0.5588\n",
            "Epoch 5/5000\n",
            "6219/6219 [==============================] - 21s 3ms/step - loss: 0.6863 - accuracy: 0.5731 - val_loss: 0.6866 - val_accuracy: 0.5724\n",
            "Epoch 6/5000\n",
            "6219/6219 [==============================] - 18s 3ms/step - loss: 0.6855 - accuracy: 0.5747 - val_loss: 0.6854 - val_accuracy: 0.5654\n",
            "Epoch 7/5000\n",
            "6219/6219 [==============================] - 18s 3ms/step - loss: 0.6853 - accuracy: 0.5746 - val_loss: 0.6858 - val_accuracy: 0.5551\n",
            "Epoch 8/5000\n",
            "6219/6219 [==============================] - 23s 4ms/step - loss: 0.6850 - accuracy: 0.5755 - val_loss: 0.6855 - val_accuracy: 0.5587\n",
            "Epoch 9/5000\n",
            "6219/6219 [==============================] - 17s 3ms/step - loss: 0.6847 - accuracy: 0.5760 - val_loss: 0.6892 - val_accuracy: 0.5471\n",
            "Epoch 10/5000\n",
            "6219/6219 [==============================] - 17s 3ms/step - loss: 0.6845 - accuracy: 0.5763 - val_loss: 0.6856 - val_accuracy: 0.5792\n",
            "Epoch 11/5000\n",
            "6219/6219 [==============================] - 17s 3ms/step - loss: 0.6846 - accuracy: 0.5758 - val_loss: 0.6850 - val_accuracy: 0.5542\n",
            "Epoch 12/5000\n",
            "6219/6219 [==============================] - 18s 3ms/step - loss: 0.6842 - accuracy: 0.5762 - val_loss: 0.6858 - val_accuracy: 0.5572\n",
            "Epoch 13/5000\n",
            "6219/6219 [==============================] - 18s 3ms/step - loss: 0.6840 - accuracy: 0.5770 - val_loss: 0.6855 - val_accuracy: 0.5533\n",
            "Epoch 14/5000\n",
            "6219/6219 [==============================] - 18s 3ms/step - loss: 0.6842 - accuracy: 0.5756 - val_loss: 0.6840 - val_accuracy: 0.5762\n",
            "Epoch 15/5000\n",
            "6219/6219 [==============================] - 18s 3ms/step - loss: 0.6840 - accuracy: 0.5767 - val_loss: 0.6841 - val_accuracy: 0.5656\n",
            "Epoch 16/5000\n",
            "6219/6219 [==============================] - 16s 3ms/step - loss: 0.6838 - accuracy: 0.5765 - val_loss: 0.6845 - val_accuracy: 0.5833\n",
            "Epoch 17/5000\n",
            "6219/6219 [==============================] - 18s 3ms/step - loss: 0.6839 - accuracy: 0.5767 - val_loss: 0.6839 - val_accuracy: 0.5723\n",
            "Epoch 18/5000\n",
            "6219/6219 [==============================] - 18s 3ms/step - loss: 0.6838 - accuracy: 0.5762 - val_loss: 0.6836 - val_accuracy: 0.5666\n",
            "Epoch 19/5000\n",
            "6219/6219 [==============================] - 18s 3ms/step - loss: 0.6836 - accuracy: 0.5771 - val_loss: 0.6830 - val_accuracy: 0.5761\n",
            "Epoch 20/5000\n",
            "6219/6219 [==============================] - 18s 3ms/step - loss: 0.6838 - accuracy: 0.5772 - val_loss: 0.6834 - val_accuracy: 0.5802\n",
            "Epoch 21/5000\n",
            "6219/6219 [==============================] - 20s 3ms/step - loss: 0.6837 - accuracy: 0.5765 - val_loss: 0.6854 - val_accuracy: 0.5626\n",
            "Epoch 22/5000\n",
            "6219/6219 [==============================] - 16s 3ms/step - loss: 0.6838 - accuracy: 0.5765 - val_loss: 0.6849 - val_accuracy: 0.5780\n",
            "Epoch 23/5000\n",
            "6219/6219 [==============================] - 18s 3ms/step - loss: 0.6839 - accuracy: 0.5759 - val_loss: 0.6832 - val_accuracy: 0.5838\n",
            "Epoch 24/5000\n",
            "6219/6219 [==============================] - 18s 3ms/step - loss: 0.6836 - accuracy: 0.5773 - val_loss: 0.6833 - val_accuracy: 0.5628\n",
            "Epoch 25/5000\n",
            "6219/6219 [==============================] - 18s 3ms/step - loss: 0.6836 - accuracy: 0.5773 - val_loss: 0.6826 - val_accuracy: 0.5801\n",
            "Epoch 26/5000\n",
            "6219/6219 [==============================] - 18s 3ms/step - loss: 0.6835 - accuracy: 0.5770 - val_loss: 0.6822 - val_accuracy: 0.5828\n",
            "Epoch 27/5000\n",
            "6219/6219 [==============================] - 16s 2ms/step - loss: 0.6835 - accuracy: 0.5772 - val_loss: 0.6839 - val_accuracy: 0.5664\n",
            "Epoch 28/5000\n",
            "6219/6219 [==============================] - 18s 3ms/step - loss: 0.6834 - accuracy: 0.5765 - val_loss: 0.6830 - val_accuracy: 0.5838\n",
            "Epoch 29/5000\n",
            "6219/6219 [==============================] - 16s 3ms/step - loss: 0.6834 - accuracy: 0.5775 - val_loss: 0.6850 - val_accuracy: 0.5643\n",
            "Epoch 30/5000\n",
            "6219/6219 [==============================] - 18s 3ms/step - loss: 0.6834 - accuracy: 0.5766 - val_loss: 0.6838 - val_accuracy: 0.5659\n",
            "Epoch 31/5000\n",
            "6219/6219 [==============================] - 18s 3ms/step - loss: 0.6832 - accuracy: 0.5772 - val_loss: 0.6829 - val_accuracy: 0.5836\n",
            "Epoch 32/5000\n",
            "6219/6219 [==============================] - 17s 3ms/step - loss: 0.6834 - accuracy: 0.5769 - val_loss: 0.6849 - val_accuracy: 0.5558\n",
            "Epoch 33/5000\n",
            "6219/6219 [==============================] - 18s 3ms/step - loss: 0.6833 - accuracy: 0.5769 - val_loss: 0.6841 - val_accuracy: 0.5649\n",
            "Epoch 34/5000\n",
            "6219/6219 [==============================] - 17s 3ms/step - loss: 0.6832 - accuracy: 0.5769 - val_loss: 0.6841 - val_accuracy: 0.5710\n",
            "Epoch 35/5000\n",
            "6219/6219 [==============================] - 24s 4ms/step - loss: 0.6832 - accuracy: 0.5772 - val_loss: 0.6838 - val_accuracy: 0.5666\n",
            "Epoch 36/5000\n",
            "6219/6219 [==============================] - 18s 3ms/step - loss: 0.6832 - accuracy: 0.5774 - val_loss: 0.6857 - val_accuracy: 0.5596\n",
            "Epoch 37/5000\n",
            "6219/6219 [==============================] - 18s 3ms/step - loss: 0.6832 - accuracy: 0.5766 - val_loss: 0.6826 - val_accuracy: 0.5753\n",
            "Epoch 38/5000\n",
            "6219/6219 [==============================] - 20s 3ms/step - loss: 0.6831 - accuracy: 0.5766 - val_loss: 0.6836 - val_accuracy: 0.5707\n",
            "Epoch 39/5000\n",
            "6219/6219 [==============================] - 20s 3ms/step - loss: 0.6832 - accuracy: 0.5769 - val_loss: 0.6849 - val_accuracy: 0.5722\n",
            "Epoch 40/5000\n",
            "6219/6219 [==============================] - 21s 3ms/step - loss: 0.6832 - accuracy: 0.5766 - val_loss: 0.6825 - val_accuracy: 0.5815\n",
            "Epoch 41/5000\n",
            "6219/6219 [==============================] - 20s 3ms/step - loss: 0.6826 - accuracy: 0.5776 - val_loss: 0.6818 - val_accuracy: 0.5826\n",
            "Epoch 42/5000\n",
            "6219/6219 [==============================] - 19s 3ms/step - loss: 0.6833 - accuracy: 0.5764 - val_loss: 0.6831 - val_accuracy: 0.5600\n",
            "Epoch 43/5000\n",
            "6219/6219 [==============================] - 22s 3ms/step - loss: 0.6833 - accuracy: 0.5772 - val_loss: 0.6865 - val_accuracy: 0.5551\n",
            "Epoch 44/5000\n",
            "6219/6219 [==============================] - 20s 3ms/step - loss: 0.6830 - accuracy: 0.5766 - val_loss: 0.6842 - val_accuracy: 0.5615\n",
            "Epoch 45/5000\n",
            "6219/6219 [==============================] - 22s 3ms/step - loss: 0.6830 - accuracy: 0.5764 - val_loss: 0.6839 - val_accuracy: 0.5670\n",
            "Epoch 46/5000\n",
            "6219/6219 [==============================] - 18s 3ms/step - loss: 0.6830 - accuracy: 0.5758 - val_loss: 0.6820 - val_accuracy: 0.5882\n",
            "Epoch 47/5000\n",
            "6219/6219 [==============================] - 24s 4ms/step - loss: 0.6832 - accuracy: 0.5760 - val_loss: 0.6818 - val_accuracy: 0.5799\n",
            "Epoch 48/5000\n",
            "6219/6219 [==============================] - 19s 3ms/step - loss: 0.6829 - accuracy: 0.5769 - val_loss: 0.6838 - val_accuracy: 0.5673\n",
            "Epoch 49/5000\n",
            "6219/6219 [==============================] - 22s 4ms/step - loss: 0.6830 - accuracy: 0.5768 - val_loss: 0.6830 - val_accuracy: 0.5812\n",
            "Epoch 50/5000\n",
            "6219/6219 [==============================] - 21s 3ms/step - loss: 0.6829 - accuracy: 0.5768 - val_loss: 0.6820 - val_accuracy: 0.5897\n",
            "Epoch 51/5000\n",
            "6219/6219 [==============================] - 21s 3ms/step - loss: 0.6829 - accuracy: 0.5763 - val_loss: 0.6820 - val_accuracy: 0.5808\n",
            "Epoch 52/5000\n",
            "6219/6219 [==============================] - 19s 3ms/step - loss: 0.6827 - accuracy: 0.5762 - val_loss: 0.6848 - val_accuracy: 0.5585\n",
            "Epoch 53/5000\n",
            "6219/6219 [==============================] - 21s 3ms/step - loss: 0.6829 - accuracy: 0.5768 - val_loss: 0.6862 - val_accuracy: 0.5528\n",
            "Epoch 54/5000\n",
            "6219/6219 [==============================] - 19s 3ms/step - loss: 0.6830 - accuracy: 0.5759 - val_loss: 0.6839 - val_accuracy: 0.5647\n",
            "Epoch 55/5000\n",
            "6219/6219 [==============================] - 21s 3ms/step - loss: 0.6829 - accuracy: 0.5764 - val_loss: 0.6889 - val_accuracy: 0.5444\n",
            "Epoch 56/5000\n",
            "6219/6219 [==============================] - 20s 3ms/step - loss: 0.6830 - accuracy: 0.5760 - val_loss: 0.6830 - val_accuracy: 0.5774\n",
            "Epoch 57/5000\n",
            "6219/6219 [==============================] - 18s 3ms/step - loss: 0.6826 - accuracy: 0.5774 - val_loss: 0.6827 - val_accuracy: 0.5730\n",
            "Epoch 58/5000\n",
            "6219/6219 [==============================] - 20s 3ms/step - loss: 0.6829 - accuracy: 0.5764 - val_loss: 0.6849 - val_accuracy: 0.5618\n",
            "Epoch 59/5000\n",
            "6219/6219 [==============================] - 24s 4ms/step - loss: 0.6828 - accuracy: 0.5762 - val_loss: 0.6822 - val_accuracy: 0.5854\n",
            "Epoch 60/5000\n",
            "6219/6219 [==============================] - 20s 3ms/step - loss: 0.6830 - accuracy: 0.5765 - val_loss: 0.6828 - val_accuracy: 0.5724\n",
            "Epoch 61/5000\n",
            "6219/6219 [==============================] - 21s 3ms/step - loss: 0.6828 - accuracy: 0.5776 - val_loss: 0.6832 - val_accuracy: 0.5754\n",
            "Epoch 61: early stopping\n"
          ]
        }
      ],
      "source": [
        "#to train the model with 70% data\n",
        "train_model2=model2.fit(X_train1,Y_train1,epochs=5000,batch_size=64,\n",
        "                      validation_data=(X_test1,Y_test1),callbacks=cb)"
      ]
    },
    {
      "cell_type": "code",
      "execution_count": 61,
      "metadata": {
        "colab": {
          "base_uri": "https://localhost:8080/"
        },
        "id": "9Dzn17Jx5DcK",
        "outputId": "71fd93cd-8628-4661-965e-7e19e9434d15"
      },
      "outputs": [
        {
          "output_type": "stream",
          "name": "stdout",
          "text": [
            "12438/12438 [==============================] - 20s 2ms/step - loss: 0.6798 - accuracy: 0.5806\n",
            "Trainig loss and accurancy :  [0.6797589063644409, 0.5806227922439575]\n",
            "5332/5332 [==============================] - 8s 1ms/step - loss: 0.6832 - accuracy: 0.5754\n",
            "Testing loss and accurancy :  [0.6832335591316223, 0.5753681063652039]\n"
          ]
        }
      ],
      "source": [
        "#model evaluation\n",
        "print(\"Trainig loss and accurancy : \",model2.evaluate(X_train1,Y_train1))\n",
        "print(\"Testing loss and accurancy : \",model2.evaluate(X_test1,Y_test1))\n",
        "#testing score and training score  same\n",
        "#but score is not good"
      ]
    },
    {
      "cell_type": "code",
      "execution_count": 62,
      "metadata": {
        "colab": {
          "base_uri": "https://localhost:8080/",
          "height": 279
        },
        "id": "aL-XgTLtFCvo",
        "outputId": "7193850a-3674-464e-98cb-b9e38e2d1853"
      },
      "outputs": [
        {
          "output_type": "display_data",
          "data": {
            "text/plain": [
              "<Figure size 432x288 with 1 Axes>"
            ],
            "image/png": "[encoded data removed]"
          },
          "metadata": {
            "needs_background": "light"
          }
        }
      ],
      "source": [
        "#visaulisation to loss training graph and testing graph\n",
        "#train_model\n",
        "plt.plot(train_model2.history['loss'],label=\"Training Loss\",color='red')\n",
        "plt.plot(train_model2.history['val_loss'],label=\"Testing Loss\",color='green')\n",
        "plt.xlabel(\"Epochs\")\n",
        "plt.ylabel(\"binary_crossentropy\")\n",
        "plt.legend()\n",
        "plt.show()"
      ]
    },
    {
      "cell_type": "code",
      "execution_count": 63,
      "metadata": {
        "colab": {
          "base_uri": "https://localhost:8080/",
          "height": 279
        },
        "id": "Q5OVRay3FCyP",
        "outputId": "48cce24c-8f40-4039-cf3a-ec1061207952"
      },
      "outputs": [
        {
          "output_type": "display_data",
          "data": {
            "text/plain": [
              "<Figure size 432x288 with 1 Axes>"
            ],
            "image/png": "[encoded data removed]"
          },
          "metadata": {
            "needs_background": "light"
          }
        }
      ],
      "source": [
        "''#visaulisation to accurancy of training graph and testing graph\n",
        "#train_model\n",
        "plt.plot(train_model2.history['accuracy'],label=\"Training accuracy\",color='red')\n",
        "plt.plot(train_model2.history['val_accuracy'],label=\"Testing accuracy\",color='green')\n",
        "plt.xlabel(\"Epochs\")\n",
        "plt.ylabel(\"accurancy\")\n",
        "plt.legend()\n",
        "plt.show()"
      ]
    },
    {
      "cell_type": "code",
      "execution_count": 64,
      "metadata": {
        "colab": {
          "base_uri": "https://localhost:8080/"
        },
        "id": "NH9E4r_fFC0q",
        "outputId": "093ee9f7-9a67-4066-9254-dd37e450daf3"
      },
      "outputs": [
        {
          "output_type": "stream",
          "name": "stdout",
          "text": [
            "5332/5332 [==============================] - 7s 1ms/step\n"
          ]
        }
      ],
      "source": [
        "#Find the predicttion means test the model with 30% data\n",
        "Y_pred=model.predict(X_test1).round(2)"
      ]
    },
    {
      "cell_type": "code",
      "execution_count": 66,
      "metadata": {
        "colab": {
          "base_uri": "https://localhost:8080/"
        },
        "id": "ihyuHVH4FC40",
        "outputId": "38acbf6f-a78a-4782-c0ab-316f43540a8b"
      },
      "outputs": [
        {
          "output_type": "stream",
          "name": "stdout",
          "text": [
            "              precision    recall  f1-score   support\n",
            "\n",
            "           0       0.63      0.81      0.70     85308\n",
            "           1       0.73      0.52      0.61     85308\n",
            "\n",
            "    accuracy                           0.66    170616\n",
            "   macro avg       0.68      0.66      0.66    170616\n",
            "weighted avg       0.68      0.66      0.66    170616\n",
            "\n",
            "[[68698 16610]\n",
            " [41030 44278]]\n"
          ]
        }
      ],
      "source": [
        "#generate classsification report\n",
        "from sklearn.metrics import classification_report,confusion_matrix\n",
        "print(classification_report(Y_test1,Y_pred))\n",
        "print(confusion_matrix(Y_test1,Y_pred))"
      ]
    },
    {
      "cell_type": "code",
      "execution_count": 67,
      "metadata": {
        "id": "YRDY6mPqFyXI"
      },
      "outputs": [],
      "source": [
        "#conclusion\n",
        "#here recall and f1-score is less because category of fraud transaction data is very less\n",
        "#so accuracy of model also less."
      ]
    }
  ],
  "metadata": {
    "colab": {
      "provenance": []
    },
    "kernelspec": {
      "display_name": "Python 3",
      "name": "python3"
    },
    "language_info": {
      "name": "python"
    }
  },
  "nbformat": 4,
  "nbformat_minor": 0
}